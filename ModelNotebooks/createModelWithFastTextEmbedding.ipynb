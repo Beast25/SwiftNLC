{
 "cells": [
  {
   "cell_type": "code",
   "execution_count": 1,
   "metadata": {},
   "outputs": [
    {
     "name": "stderr",
     "output_type": "stream",
     "text": [
      "/Users/jmangia/anaconda2/envs/SwiftNLC/lib/python2.7/site-packages/h5py/__init__.py:34: FutureWarning: Conversion of the second argument of issubdtype from `float` to `np.floating` is deprecated. In future, it will be treated as `np.float64 == np.dtype(float).type`.\n",
      "  from ._conv import register_converters as _register_converters\n"
     ]
    }
   ],
   "source": [
    "import numpy as np\n",
    "import tensorflow as tf\n"
   ]
  },
  {
   "cell_type": "markdown",
   "metadata": {},
   "source": [
    "# Import word2vec vectorized traning dataset prepared with FastText"
   ]
  },
  {
   "cell_type": "code",
   "execution_count": 2,
   "metadata": {},
   "outputs": [],
   "source": [
    "# import intents file\n",
    "import json\n",
    "with open('vectorizedDataset.json') as json_data:\n",
    "    intents = json.load(json_data)"
   ]
  },
  {
   "cell_type": "code",
   "execution_count": 83,
   "metadata": {},
   "outputs": [
    {
     "name": "stdout",
     "output_type": "stream",
     "text": [
      "(8, 'classes')\n",
      "(100, 'vector size')\n",
      "(26, 100, 'x')\n",
      "(26, 8, 'y')\n",
      "(26, 100)\n",
      "(26, 8)\n"
     ]
    }
   ],
   "source": [
    "classes = len(intents['intents'])\n",
    "currentClass = 0\n",
    "train_x = []\n",
    "train_y = []\n",
    "\n",
    "for intent in intents['intents']:\n",
    "    y = [0] * classes\n",
    "    y[currentClass] = 1\n",
    "\n",
    "    for vector in intent['sentenceVectors']:\n",
    "        train_x.append(vector)\n",
    "        train_y.append(y)\n",
    "\n",
    "    currentClass += 1\n",
    "\n",
    "vectorSize = len(train_x[0])\n",
    "\n",
    "train_X = np.array(train_x)\n",
    "train_Y = np.array(train_y)\n",
    "\n",
    "print(classes, \"classes\")\n",
    "print(vectorSize, \"vector size\")\n",
    "print(len(train_x), len(train_x[0]), \"x\")\n",
    "print(len(train_y), len(train_y[0]), \"y\")\n",
    "print(train_X.shape)\n",
    "print(train_Y.shape)"
   ]
  },
  {
   "cell_type": "markdown",
   "metadata": {},
   "source": [
    "# Prepare Keras / TensorFlow model"
   ]
  },
  {
   "cell_type": "code",
   "execution_count": 112,
   "metadata": {},
   "outputs": [],
   "source": [
    "from keras.models import Sequential, Model\n",
    "from keras.layers import Dense, Input, Bidirectional, LSTM, GRU, TimeDistributed, Activation, Flatten, Embedding\n",
    "from keras.optimizers import Adam\n"
   ]
  },
  {
   "cell_type": "code",
   "execution_count": 113,
   "metadata": {},
   "outputs": [
    {
     "name": "stdout",
     "output_type": "stream",
     "text": [
      "model fitting - Bidirectional GRU\n",
      "_________________________________________________________________\n",
      "Layer (type)                 Output Shape              Param #   \n",
      "=================================================================\n",
      "gru_44 (GRU)                 (1, None, 100)            60300     \n",
      "_________________________________________________________________\n",
      "time_distributed_102 (TimeDi (1, None, 64)             6464      \n",
      "_________________________________________________________________\n",
      "activation_97 (Activation)   (1, None, 64)             0         \n",
      "_________________________________________________________________\n",
      "time_distributed_103 (TimeDi (1, None, 32)             2080      \n",
      "_________________________________________________________________\n",
      "activation_98 (Activation)   (1, None, 32)             0         \n",
      "_________________________________________________________________\n",
      "time_distributed_104 (TimeDi (1, None, 8)              264       \n",
      "_________________________________________________________________\n",
      "activation_99 (Activation)   (1, None, 8)              0         \n",
      "=================================================================\n",
      "Total params: 69,108\n",
      "Trainable params: 69,108\n",
      "Non-trainable params: 0\n",
      "_________________________________________________________________\n"
     ]
    }
   ],
   "source": [
    "#sequence_input = Input(shape=(None, len(train_x[0])), dtype='float')\n",
    "#bidiGru = Bidirectional(GRU(100))(sequence_input)\n",
    "#preds = Dense(len(train_y[0]), activation='softmax')(bidiGru)\n",
    "#model = Model(sequence_input, preds)\n",
    "#model.compile(loss='categorical_crossentropy', optimizer='rmsprop', metrics=['acc'])\n",
    "\n",
    "model = Sequential([\n",
    "                    GRU(100, batch_size=1, input_shape=(None, len(train_x[0])), return_sequences=True),\n",
    "                    TimeDistributed(Dense(64)),\n",
    "                    Activation('relu'),\n",
    "                    TimeDistributed(Dense(32)),\n",
    "                    Activation('relu'),\n",
    "                    TimeDistributed(Dense(len(train_y[0]))),\n",
    "                    Activation('softmax'),\n",
    "                   ])\n",
    "\n",
    "print(\"model fitting - Bidirectional GRU\")\n",
    "model.summary()\n"
   ]
  },
  {
   "cell_type": "code",
   "execution_count": 114,
   "metadata": {},
   "outputs": [],
   "source": [
    "# Compile model\n",
    "model.compile(loss='categorical_crossentropy', optimizer='adam', metrics=['accuracy'])"
   ]
  },
  {
   "cell_type": "markdown",
   "metadata": {},
   "source": [
    "# Train Model"
   ]
  },
  {
   "cell_type": "code",
   "execution_count": 118,
   "metadata": {},
   "outputs": [
    {
     "name": "stdout",
     "output_type": "stream",
     "text": [
      "(26, 100)\n",
      "(26, 8)\n",
      "(1, 26, 100)\n",
      "(1, 26, 8)\n",
      "[[[ 0.03152543 -0.07608503  0.03927452 ... -0.08470749  0.06540044\n",
      "   -0.09444779]\n",
      "  [ 0.02298637 -0.00379145 -0.03864405 ...  0.05101557 -0.10139443\n",
      "   -0.02094366]\n",
      "  [-0.01482135 -0.08236423 -0.00952277 ...  0.04878472  0.05576552\n",
      "   -0.04330803]\n",
      "  ...\n",
      "  [ 0.04357786 -0.09341566  0.05002676 ... -0.0229912   0.02283798\n",
      "   -0.01719651]\n",
      "  [ 0.01132766 -0.05173061  0.03774963 ... -0.00333958 -0.02325496\n",
      "    0.01082035]\n",
      "  [ 0.03639279 -0.07542431  0.03309561 ... -0.03817781 -0.01912619\n",
      "    0.10327344]]]\n"
     ]
    }
   ],
   "source": [
    "print(train_X.shape)\n",
    "print(train_Y.shape)\n",
    "\n",
    "X3 = np.reshape(train_X, (1,) + train_X.shape)\n",
    "Y3 = np.reshape(train_Y, (1,) + train_Y.shape)\n",
    "\n",
    "print(X3.shape)\n",
    "print(Y3.shape)\n",
    "\n",
    "print(X3)\n"
   ]
  },
  {
   "cell_type": "code",
   "execution_count": 116,
   "metadata": {},
   "outputs": [
    {
     "name": "stdout",
     "output_type": "stream",
     "text": [
      "Epoch 1/100\n",
      "1/1 [==============================] - 1s 1s/step - loss: 2.0763 - acc: 0.0000e+00\n",
      "Epoch 2/100\n",
      "1/1 [==============================] - 0s 17ms/step - loss: 2.0670 - acc: 0.1923\n",
      "Epoch 3/100\n",
      "1/1 [==============================] - 0s 17ms/step - loss: 2.0568 - acc: 0.2692\n",
      "Epoch 4/100\n",
      "1/1 [==============================] - 0s 17ms/step - loss: 2.0452 - acc: 0.4615\n",
      "Epoch 5/100\n",
      "1/1 [==============================] - 0s 17ms/step - loss: 2.0337 - acc: 0.5385\n",
      "Epoch 6/100\n",
      "1/1 [==============================] - 0s 16ms/step - loss: 2.0222 - acc: 0.5385\n",
      "Epoch 7/100\n",
      "1/1 [==============================] - 0s 18ms/step - loss: 2.0101 - acc: 0.6154\n",
      "Epoch 8/100\n",
      "1/1 [==============================] - 0s 17ms/step - loss: 1.9973 - acc: 0.7308\n",
      "Epoch 9/100\n",
      "1/1 [==============================] - 0s 17ms/step - loss: 1.9834 - acc: 0.7308\n",
      "Epoch 10/100\n",
      "1/1 [==============================] - 0s 18ms/step - loss: 1.9685 - acc: 0.7308\n",
      "Epoch 11/100\n",
      "1/1 [==============================] - 0s 18ms/step - loss: 1.9525 - acc: 0.7692\n",
      "Epoch 12/100\n",
      "1/1 [==============================] - 0s 19ms/step - loss: 1.9352 - acc: 0.8077\n",
      "Epoch 13/100\n",
      "1/1 [==============================] - 0s 19ms/step - loss: 1.9165 - acc: 0.8077\n",
      "Epoch 14/100\n",
      "1/1 [==============================] - 0s 20ms/step - loss: 1.8964 - acc: 0.8462\n",
      "Epoch 15/100\n",
      "1/1 [==============================] - 0s 19ms/step - loss: 1.8745 - acc: 0.8462\n",
      "Epoch 16/100\n",
      "1/1 [==============================] - 0s 20ms/step - loss: 1.8509 - acc: 0.8462\n",
      "Epoch 17/100\n",
      "1/1 [==============================] - 0s 19ms/step - loss: 1.8249 - acc: 0.8462\n",
      "Epoch 18/100\n",
      "1/1 [==============================] - 0s 18ms/step - loss: 1.7966 - acc: 0.8462\n",
      "Epoch 19/100\n",
      "1/1 [==============================] - 0s 18ms/step - loss: 1.7657 - acc: 0.8462\n",
      "Epoch 20/100\n",
      "1/1 [==============================] - 0s 20ms/step - loss: 1.7322 - acc: 0.8462\n",
      "Epoch 21/100\n",
      "1/1 [==============================] - 0s 19ms/step - loss: 1.6958 - acc: 0.8846\n",
      "Epoch 22/100\n",
      "1/1 [==============================] - 0s 19ms/step - loss: 1.6564 - acc: 0.8846\n",
      "Epoch 23/100\n",
      "1/1 [==============================] - 0s 17ms/step - loss: 1.6136 - acc: 0.8846\n",
      "Epoch 24/100\n",
      "1/1 [==============================] - 0s 17ms/step - loss: 1.5674 - acc: 0.8846\n",
      "Epoch 25/100\n",
      "1/1 [==============================] - 0s 19ms/step - loss: 1.5174 - acc: 0.8846\n",
      "Epoch 26/100\n",
      "1/1 [==============================] - 0s 16ms/step - loss: 1.4629 - acc: 0.8846\n",
      "Epoch 27/100\n",
      "1/1 [==============================] - 0s 18ms/step - loss: 1.4045 - acc: 0.8846\n",
      "Epoch 28/100\n",
      "1/1 [==============================] - 0s 17ms/step - loss: 1.3427 - acc: 0.8846\n",
      "Epoch 29/100\n",
      "1/1 [==============================] - 0s 19ms/step - loss: 1.2764 - acc: 0.8846\n",
      "Epoch 30/100\n",
      "1/1 [==============================] - 0s 21ms/step - loss: 1.2074 - acc: 0.8846\n",
      "Epoch 31/100\n",
      "1/1 [==============================] - 0s 19ms/step - loss: 1.1348 - acc: 0.8462\n",
      "Epoch 32/100\n",
      "1/1 [==============================] - 0s 19ms/step - loss: 1.0588 - acc: 0.8462\n",
      "Epoch 33/100\n",
      "1/1 [==============================] - 0s 18ms/step - loss: 0.9790 - acc: 0.8462\n",
      "Epoch 34/100\n",
      "1/1 [==============================] - 0s 18ms/step - loss: 0.8957 - acc: 0.8462\n",
      "Epoch 35/100\n",
      "1/1 [==============================] - 0s 21ms/step - loss: 0.8103 - acc: 0.8462\n",
      "Epoch 36/100\n",
      "1/1 [==============================] - 0s 21ms/step - loss: 0.7248 - acc: 0.8846\n",
      "Epoch 37/100\n",
      "1/1 [==============================] - 0s 21ms/step - loss: 0.6480 - acc: 0.8846\n",
      "Epoch 38/100\n",
      "1/1 [==============================] - 0s 24ms/step - loss: 0.5799 - acc: 0.8846\n",
      "Epoch 39/100\n",
      "1/1 [==============================] - 0s 22ms/step - loss: 0.5125 - acc: 0.8846\n",
      "Epoch 40/100\n",
      "1/1 [==============================] - 0s 21ms/step - loss: 0.4457 - acc: 0.8846\n",
      "Epoch 41/100\n",
      "1/1 [==============================] - 0s 21ms/step - loss: 0.3935 - acc: 0.8846\n",
      "Epoch 42/100\n",
      "1/1 [==============================] - 0s 21ms/step - loss: 0.3455 - acc: 0.9615\n",
      "Epoch 43/100\n",
      "1/1 [==============================] - 0s 20ms/step - loss: 0.3040 - acc: 1.0000\n",
      "Epoch 44/100\n",
      "1/1 [==============================] - 0s 18ms/step - loss: 0.2678 - acc: 0.9615\n",
      "Epoch 45/100\n",
      "1/1 [==============================] - 0s 18ms/step - loss: 0.2387 - acc: 0.9615\n",
      "Epoch 46/100\n",
      "1/1 [==============================] - 0s 20ms/step - loss: 0.2071 - acc: 1.0000\n",
      "Epoch 47/100\n",
      "1/1 [==============================] - 0s 18ms/step - loss: 0.1807 - acc: 1.0000\n",
      "Epoch 48/100\n",
      "1/1 [==============================] - 0s 19ms/step - loss: 0.1564 - acc: 1.0000\n",
      "Epoch 49/100\n",
      "1/1 [==============================] - 0s 20ms/step - loss: 0.1368 - acc: 1.0000\n",
      "Epoch 50/100\n",
      "1/1 [==============================] - 0s 20ms/step - loss: 0.1221 - acc: 1.0000\n",
      "Epoch 51/100\n",
      "1/1 [==============================] - 0s 19ms/step - loss: 0.1078 - acc: 1.0000\n",
      "Epoch 52/100\n",
      "1/1 [==============================] - 0s 18ms/step - loss: 0.0958 - acc: 1.0000\n",
      "Epoch 53/100\n",
      "1/1 [==============================] - 0s 18ms/step - loss: 0.0851 - acc: 1.0000\n",
      "Epoch 54/100\n",
      "1/1 [==============================] - 0s 19ms/step - loss: 0.0749 - acc: 1.0000\n",
      "Epoch 55/100\n",
      "1/1 [==============================] - 0s 19ms/step - loss: 0.0671 - acc: 1.0000\n",
      "Epoch 56/100\n",
      "1/1 [==============================] - 0s 19ms/step - loss: 0.0612 - acc: 1.0000\n",
      "Epoch 57/100\n",
      "1/1 [==============================] - 0s 19ms/step - loss: 0.0545 - acc: 1.0000\n",
      "Epoch 58/100\n",
      "1/1 [==============================] - 0s 19ms/step - loss: 0.0484 - acc: 1.0000\n",
      "Epoch 59/100\n",
      "1/1 [==============================] - 0s 19ms/step - loss: 0.0448 - acc: 1.0000\n",
      "Epoch 60/100\n",
      "1/1 [==============================] - 0s 18ms/step - loss: 0.0414 - acc: 1.0000\n",
      "Epoch 61/100\n",
      "1/1 [==============================] - 0s 19ms/step - loss: 0.0376 - acc: 1.0000\n",
      "Epoch 62/100\n",
      "1/1 [==============================] - 0s 19ms/step - loss: 0.0354 - acc: 1.0000\n",
      "Epoch 63/100\n",
      "1/1 [==============================] - 0s 20ms/step - loss: 0.0329 - acc: 1.0000\n",
      "Epoch 64/100\n",
      "1/1 [==============================] - 0s 19ms/step - loss: 0.0297 - acc: 1.0000\n",
      "Epoch 65/100\n",
      "1/1 [==============================] - 0s 20ms/step - loss: 0.0281 - acc: 1.0000\n",
      "Epoch 66/100\n",
      "1/1 [==============================] - 0s 21ms/step - loss: 0.0258 - acc: 1.0000\n",
      "Epoch 67/100\n",
      "1/1 [==============================] - 0s 20ms/step - loss: 0.0239 - acc: 1.0000\n",
      "Epoch 68/100\n",
      "1/1 [==============================] - 0s 20ms/step - loss: 0.0225 - acc: 1.0000\n",
      "Epoch 69/100\n",
      "1/1 [==============================] - 0s 21ms/step - loss: 0.0207 - acc: 1.0000\n",
      "Epoch 70/100\n",
      "1/1 [==============================] - 0s 22ms/step - loss: 0.0198 - acc: 1.0000\n",
      "Epoch 71/100\n",
      "1/1 [==============================] - 0s 21ms/step - loss: 0.0184 - acc: 1.0000\n",
      "Epoch 72/100\n",
      "1/1 [==============================] - 0s 19ms/step - loss: 0.0173 - acc: 1.0000\n",
      "Epoch 73/100\n",
      "1/1 [==============================] - 0s 19ms/step - loss: 0.0165 - acc: 1.0000\n",
      "Epoch 74/100\n",
      "1/1 [==============================] - 0s 19ms/step - loss: 0.0153 - acc: 1.0000\n",
      "Epoch 75/100\n",
      "1/1 [==============================] - 0s 19ms/step - loss: 0.0147 - acc: 1.0000\n",
      "Epoch 76/100\n",
      "1/1 [==============================] - 0s 20ms/step - loss: 0.0138 - acc: 1.0000\n",
      "Epoch 77/100\n",
      "1/1 [==============================] - 0s 19ms/step - loss: 0.0133 - acc: 1.0000\n",
      "Epoch 78/100\n",
      "1/1 [==============================] - 0s 19ms/step - loss: 0.0125 - acc: 1.0000\n",
      "Epoch 79/100\n",
      "1/1 [==============================] - 0s 19ms/step - loss: 0.0120 - acc: 1.0000\n",
      "Epoch 80/100\n",
      "1/1 [==============================] - 0s 20ms/step - loss: 0.0114 - acc: 1.0000\n",
      "Epoch 81/100\n",
      "1/1 [==============================] - 0s 20ms/step - loss: 0.0109 - acc: 1.0000\n",
      "Epoch 82/100\n",
      "1/1 [==============================] - 0s 20ms/step - loss: 0.0104 - acc: 1.0000\n",
      "Epoch 83/100\n",
      "1/1 [==============================] - 0s 20ms/step - loss: 0.0100 - acc: 1.0000\n",
      "Epoch 84/100\n",
      "1/1 [==============================] - 0s 19ms/step - loss: 0.0096 - acc: 1.0000\n",
      "Epoch 85/100\n",
      "1/1 [==============================] - 0s 20ms/step - loss: 0.0093 - acc: 1.0000\n",
      "Epoch 86/100\n",
      "1/1 [==============================] - 0s 20ms/step - loss: 0.0089 - acc: 1.0000\n",
      "Epoch 87/100\n",
      "1/1 [==============================] - 0s 19ms/step - loss: 0.0086 - acc: 1.0000\n",
      "Epoch 88/100\n",
      "1/1 [==============================] - 0s 20ms/step - loss: 0.0083 - acc: 1.0000\n"
     ]
    },
    {
     "name": "stdout",
     "output_type": "stream",
     "text": [
      "Epoch 89/100\n",
      "1/1 [==============================] - 0s 20ms/step - loss: 0.0080 - acc: 1.0000\n",
      "Epoch 90/100\n",
      "1/1 [==============================] - 0s 19ms/step - loss: 0.0078 - acc: 1.0000\n",
      "Epoch 91/100\n",
      "1/1 [==============================] - 0s 19ms/step - loss: 0.0075 - acc: 1.0000\n",
      "Epoch 92/100\n",
      "1/1 [==============================] - 0s 21ms/step - loss: 0.0073 - acc: 1.0000\n",
      "Epoch 93/100\n",
      "1/1 [==============================] - 0s 19ms/step - loss: 0.0071 - acc: 1.0000\n",
      "Epoch 94/100\n",
      "1/1 [==============================] - 0s 18ms/step - loss: 0.0069 - acc: 1.0000\n",
      "Epoch 95/100\n",
      "1/1 [==============================] - 0s 20ms/step - loss: 0.0067 - acc: 1.0000\n",
      "Epoch 96/100\n",
      "1/1 [==============================] - 0s 20ms/step - loss: 0.0065 - acc: 1.0000\n",
      "Epoch 97/100\n",
      "1/1 [==============================] - 0s 19ms/step - loss: 0.0063 - acc: 1.0000\n",
      "Epoch 98/100\n",
      "1/1 [==============================] - 0s 18ms/step - loss: 0.0061 - acc: 1.0000\n",
      "Epoch 99/100\n",
      "1/1 [==============================] - 0s 17ms/step - loss: 0.0060 - acc: 1.0000\n",
      "Epoch 100/100\n",
      "1/1 [==============================] - 0s 17ms/step - loss: 0.0058 - acc: 1.0000\n"
     ]
    },
    {
     "data": {
      "text/plain": [
       "<keras.callbacks.History at 0x1239bcf50>"
      ]
     },
     "execution_count": 116,
     "metadata": {},
     "output_type": "execute_result"
    }
   ],
   "source": [
    "model.fit(X3, Y3, epochs=100)"
   ]
  },
  {
   "cell_type": "markdown",
   "metadata": {},
   "source": [
    "# Export Model using CoreML Tools"
   ]
  },
  {
   "cell_type": "code",
   "execution_count": null,
   "metadata": {},
   "outputs": [],
   "source": [
    "model.save('SwiftNLCFastText.h5')"
   ]
  },
  {
   "cell_type": "code",
   "execution_count": null,
   "metadata": {},
   "outputs": [],
   "source": [
    "import coremltools\n",
    "coreml_model = coremltools.converters.keras.convert(model, input_names=\"vectors\", output_names=\"entities\")\n",
    "coreml_model"
   ]
  },
  {
   "cell_type": "code",
   "execution_count": null,
   "metadata": {},
   "outputs": [],
   "source": [
    "coreml_model.save('SwiftNLCFastText.mlmodel')"
   ]
  },
  {
   "cell_type": "code",
   "execution_count": null,
   "metadata": {},
   "outputs": [],
   "source": []
  }
 ],
 "metadata": {
  "kernelspec": {
   "display_name": "Python 2",
   "language": "python",
   "name": "python2"
  },
  "language_info": {
   "codemirror_mode": {
    "name": "ipython",
    "version": 2
   },
   "file_extension": ".py",
   "mimetype": "text/x-python",
   "name": "python",
   "nbconvert_exporter": "python",
   "pygments_lexer": "ipython2",
   "version": "2.7.14"
  }
 },
 "nbformat": 4,
 "nbformat_minor": 2
}
