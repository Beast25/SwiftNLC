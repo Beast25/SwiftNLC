{
 "cells": [
  {
   "cell_type": "markdown",
   "metadata": {},
   "source": [
    "# Imports"
   ]
  },
  {
   "cell_type": "code",
   "execution_count": 1,
   "metadata": {},
   "outputs": [
    {
     "name": "stderr",
     "output_type": "stream",
     "text": [
      "/Users/jmangia/anaconda2/envs/SwiftNLC/lib/python2.7/site-packages/h5py/__init__.py:34: FutureWarning: Conversion of the second argument of issubdtype from `float` to `np.floating` is deprecated. In future, it will be treated as `np.float64 == np.dtype(float).type`.\n",
      "  from ._conv import register_converters as _register_converters\n",
      "Using TensorFlow backend.\n"
     ]
    }
   ],
   "source": [
    "import numpy as np\n",
    "from nltk.tokenize import RegexpTokenizer\n",
    "from keras.preprocessing.text import Tokenizer\n",
    "from keras.preprocessing.sequence import pad_sequences\n",
    "from keras.models import Sequential, Model\n",
    "from keras.layers import Dense, Input, Bidirectional, LSTM, GRU, TimeDistributed, Activation, Flatten, Embedding\n",
    "from keras.optimizers import Adam\n",
    "\n"
   ]
  },
  {
   "cell_type": "markdown",
   "metadata": {},
   "source": [
    "# Functions"
   ]
  },
  {
   "cell_type": "code",
   "execution_count": 2,
   "metadata": {},
   "outputs": [],
   "source": [
    "# Prepare Glove File\n",
    "def readGloveFile(gloveFile):\n",
    "    with open(gloveFile, 'r') as f:\n",
    "        wordToGlove = {}  # map from a token (word) to a Glove embedding vector\n",
    "        wordToIndex = {}  # map from a token to an index\n",
    "        indexToWord = {}  # map from an index to a token \n",
    "\n",
    "        for line in f:\n",
    "            record = line.strip().split()\n",
    "            token = record[0] # take the token (word) from the text line\n",
    "            wordToGlove[token] = np.array(record[1:], dtype=np.float64) # associate the Glove embedding vector to a that token (word)\n",
    "\n",
    "        tokens = sorted(wordToGlove.keys())\n",
    "        for idx, tok in enumerate(tokens):\n",
    "            kerasIdx = idx + 1  # 0 is reserved for masking in Keras (see above)\n",
    "            wordToIndex[tok] = kerasIdx # associate an index to a token (word)\n",
    "            indexToWord[kerasIdx] = tok # associate a word to a token (word). Note: inverse of dictionary above\n",
    "\n",
    "    return wordToIndex, indexToWord, wordToGlove"
   ]
  },
  {
   "cell_type": "code",
   "execution_count": 3,
   "metadata": {},
   "outputs": [],
   "source": [
    "# Create Pretrained Keras Embedding Weights Matrix\n",
    "def createPretrainedEmbeddingMatrix(wordToGlove, wordToIndex):\n",
    "    vocabLen = len(wordToIndex) + 1  # adding 1 to account for masking\n",
    "    embDim = next(iter(wordToGlove.values())).shape[0]  # works with any glove dimensions (e.g. 50)\n",
    "\n",
    "    embeddingMatrix = np.zeros((vocabLen, embDim))  # initialize with zeros\n",
    "    for word, index in wordToIndex.items():\n",
    "        embeddingMatrix[index, :] = wordToGlove[word] # create embedding: word index to Glove word embedding\n",
    "\n",
    "    return vocabLen, embDim, embeddingMatrix"
   ]
  },
  {
   "cell_type": "code",
   "execution_count": 4,
   "metadata": {},
   "outputs": [],
   "source": [
    "# Embedding\n",
    "def getEncodedDocs(docs):\n",
    "    encoded_docs = []\n",
    "\n",
    "    tokenizer = RegexpTokenizer(r'\\w+')\n",
    "    for doc in docs:\n",
    "        encoded_doc = []\n",
    "        for word in tokenizer.tokenize(doc.lower()):\n",
    "            index = wordToIndex[word]\n",
    "            if index is not None:\n",
    "                encoded_doc.append(index)\n",
    "            else:\n",
    "                encoded_doc.append(0)\n",
    "        encoded_docs.append(encoded_doc)\n",
    "\n",
    "    return encoded_docs"
   ]
  },
  {
   "cell_type": "markdown",
   "metadata": {},
   "source": [
    "# Import GloVe Pretrained dataset and create Embedding Weight Matrix"
   ]
  },
  {
   "cell_type": "code",
   "execution_count": 5,
   "metadata": {},
   "outputs": [],
   "source": [
    "max_length = 20\n",
    "wordToIndex, indexToWord, wordToGlove = readGloveFile(\"glove/glove.6B.100d.txt\")\n",
    "vocabLen, embDim, embeddingMatrix = createPretrainedEmbeddingMatrix(wordToGlove, wordToIndex)"
   ]
  },
  {
   "cell_type": "markdown",
   "metadata": {},
   "source": [
    "# Import intents file"
   ]
  },
  {
   "cell_type": "code",
   "execution_count": 6,
   "metadata": {},
   "outputs": [],
   "source": [
    "import json\n",
    "with open('PharmacyDataset.json') as json_data:\n",
    "    intents = json.load(json_data)"
   ]
  },
  {
   "cell_type": "markdown",
   "metadata": {},
   "source": [
    "# Padding, Encoding and Preparing final X and Y data for Training"
   ]
  },
  {
   "cell_type": "code",
   "execution_count": 7,
   "metadata": {},
   "outputs": [],
   "source": [
    "classes = []\n",
    "encodedUtterances = []\n",
    "\n",
    "# loop through each sentence in our intents utterances\n",
    "for intent in intents['intents']:\n",
    "    classes.append(intent['intent'])\n",
    "    encoded_docs = getEncodedDocs(intent['utterances'])\n",
    "    padded_docs = pad_sequences(encoded_docs, maxlen=max_length, padding='post')\n",
    "    encodedUtterances.append(padded_docs)\n"
   ]
  },
  {
   "cell_type": "code",
   "execution_count": 8,
   "metadata": {},
   "outputs": [
    {
     "name": "stdout",
     "output_type": "stream",
     "text": [
      "([u'greeting', u'goodbye', u'thanks', u'options', u'adverse_drug', u'blood_pressure', u'blood_pressure_search', u'pharmacy_search'], 'classes')\n",
      "(20, 'vector size')\n",
      "(26, 20, 'x')\n",
      "(26, 8, 'y')\n",
      "(26, 20)\n",
      "(26, 8)\n"
     ]
    }
   ],
   "source": [
    "currentClass = 0\n",
    "train_x = []\n",
    "train_y = []\n",
    "\n",
    "for intent in classes:\n",
    "    y = [0] * len(classes)\n",
    "    y[currentClass] = 1\n",
    "\n",
    "    for vector in encodedUtterances[currentClass]:\n",
    "        train_x.append(vector)\n",
    "        train_y.append(y)\n",
    "\n",
    "    currentClass += 1\n",
    "\n",
    "vectorSize = len(train_x[0])\n",
    "\n",
    "train_X = np.array(train_x)\n",
    "train_Y = np.array(train_y)\n",
    "\n",
    "print(classes, \"classes\")\n",
    "print(vectorSize, \"vector size\")\n",
    "print(len(train_x), len(train_x[0]), \"x\")\n",
    "print(len(train_y), len(train_y[0]), \"y\")\n",
    "print(train_X.shape)\n",
    "print(train_Y.shape)"
   ]
  },
  {
   "cell_type": "markdown",
   "metadata": {},
   "source": [
    "# Prepare and Compile Keras / TensorFlow model"
   ]
  },
  {
   "cell_type": "code",
   "execution_count": 9,
   "metadata": {},
   "outputs": [
    {
     "name": "stdout",
     "output_type": "stream",
     "text": [
      "model fitting - Monodirectional GRU\n",
      "_________________________________________________________________\n",
      "Layer (type)                 Output Shape              Param #   \n",
      "=================================================================\n",
      "embedding_1 (Embedding)      (None, 20, 100)           40000100  \n",
      "_________________________________________________________________\n",
      "gru_1 (GRU)                  (None, 20, 100)           60300     \n",
      "_________________________________________________________________\n",
      "time_distributed_1 (TimeDist (None, 20, 64)            6464      \n",
      "_________________________________________________________________\n",
      "activation_1 (Activation)    (None, 20, 64)            0         \n",
      "_________________________________________________________________\n",
      "time_distributed_2 (TimeDist (None, 20, 32)            2080      \n",
      "_________________________________________________________________\n",
      "activation_2 (Activation)    (None, 20, 32)            0         \n",
      "_________________________________________________________________\n",
      "flatten_1 (Flatten)          (None, 640)               0         \n",
      "_________________________________________________________________\n",
      "dense_3 (Dense)              (None, 8)                 5128      \n",
      "=================================================================\n",
      "Total params: 40,074,072\n",
      "Trainable params: 73,972\n",
      "Non-trainable params: 40,000,100\n",
      "_________________________________________________________________\n"
     ]
    }
   ],
   "source": [
    "#sequence_input = Input(shape=(None, len(train_x[0])), dtype='float')\n",
    "#bidiGru = Bidirectional(GRU(100))(sequence_input)\n",
    "#preds = Dense(len(train_y[0]), activation='softmax')(bidiGru)\n",
    "#model = Model(sequence_input, preds)\n",
    "#model.compile(loss='categorical_crossentropy', optimizer='rmsprop', metrics=['acc'])\n",
    "\n",
    "\n",
    "# NB using LSTM as CoreML only support LSTM in Bidirectional layer\n",
    "\n",
    "\n",
    "model = Sequential([\n",
    "                    Embedding(vocabLen, embDim, weights=[embeddingMatrix], input_length=max_length, trainable=False),\n",
    "                    GRU(embDim, batch_size=1, input_shape=(None, embDim), return_sequences=True),\n",
    "                    #LSTM(embDim, batch_size=1, input_shape=(None, embDim), return_sequences=True),\n",
    "                    TimeDistributed(Dense(64)),\n",
    "                    Activation('relu'),\n",
    "                    TimeDistributed(Dense(32)),\n",
    "                    Activation('relu'),\n",
    "                    Flatten(),\n",
    "                    Dense(len(train_y[0]), activation='softmax')\n",
    "                   ])\n",
    "\n",
    "print(\"model fitting - Monodirectional GRU\")\n",
    "model.summary()\n"
   ]
  },
  {
   "cell_type": "code",
   "execution_count": 10,
   "metadata": {},
   "outputs": [],
   "source": [
    "# Compile model\n",
    "model.compile(loss='categorical_crossentropy', optimizer='adam', metrics=['accuracy'])"
   ]
  },
  {
   "cell_type": "markdown",
   "metadata": {},
   "source": [
    "# Train Model"
   ]
  },
  {
   "cell_type": "code",
   "execution_count": 11,
   "metadata": {},
   "outputs": [
    {
     "name": "stdout",
     "output_type": "stream",
     "text": [
      "Epoch 1/50\n",
      "26/26 [==============================] - 0s 15ms/step - loss: 2.0718 - acc: 0.1923\n",
      "Epoch 2/50\n",
      "26/26 [==============================] - 0s 618us/step - loss: 2.0253 - acc: 0.2692\n",
      "Epoch 3/50\n",
      "26/26 [==============================] - 0s 610us/step - loss: 1.9839 - acc: 0.5000\n",
      "Epoch 4/50\n",
      "26/26 [==============================] - 0s 615us/step - loss: 1.9446 - acc: 0.6154\n",
      "Epoch 5/50\n",
      "26/26 [==============================] - 0s 631us/step - loss: 1.9037 - acc: 0.6923\n",
      "Epoch 6/50\n",
      "26/26 [==============================] - 0s 643us/step - loss: 1.8605 - acc: 0.7308\n",
      "Epoch 7/50\n",
      "26/26 [==============================] - 0s 672us/step - loss: 1.8144 - acc: 0.7692\n",
      "Epoch 8/50\n",
      "26/26 [==============================] - 0s 695us/step - loss: 1.7653 - acc: 0.7308\n",
      "Epoch 9/50\n",
      "26/26 [==============================] - 0s 683us/step - loss: 1.7125 - acc: 0.7308\n",
      "Epoch 10/50\n",
      "26/26 [==============================] - 0s 654us/step - loss: 1.6556 - acc: 0.7692\n",
      "Epoch 11/50\n",
      "26/26 [==============================] - 0s 667us/step - loss: 1.5954 - acc: 0.8077\n",
      "Epoch 12/50\n",
      "26/26 [==============================] - 0s 662us/step - loss: 1.5322 - acc: 0.8462\n",
      "Epoch 13/50\n",
      "26/26 [==============================] - 0s 643us/step - loss: 1.4666 - acc: 0.8077\n",
      "Epoch 14/50\n",
      "26/26 [==============================] - 0s 662us/step - loss: 1.3985 - acc: 0.8077\n",
      "Epoch 15/50\n",
      "26/26 [==============================] - 0s 643us/step - loss: 1.3294 - acc: 0.8077\n",
      "Epoch 16/50\n",
      "26/26 [==============================] - 0s 674us/step - loss: 1.2593 - acc: 0.8077\n",
      "Epoch 17/50\n",
      "26/26 [==============================] - 0s 664us/step - loss: 1.1889 - acc: 0.8077\n",
      "Epoch 18/50\n",
      "26/26 [==============================] - 0s 659us/step - loss: 1.1190 - acc: 0.8077\n",
      "Epoch 19/50\n",
      "26/26 [==============================] - 0s 663us/step - loss: 1.0491 - acc: 0.8077\n",
      "Epoch 20/50\n",
      "26/26 [==============================] - 0s 695us/step - loss: 0.9799 - acc: 0.8462\n",
      "Epoch 21/50\n",
      "26/26 [==============================] - 0s 687us/step - loss: 0.9120 - acc: 0.8846\n",
      "Epoch 22/50\n",
      "26/26 [==============================] - 0s 716us/step - loss: 0.8458 - acc: 0.8846\n",
      "Epoch 23/50\n",
      "26/26 [==============================] - 0s 654us/step - loss: 0.7813 - acc: 0.8846\n",
      "Epoch 24/50\n",
      "26/26 [==============================] - 0s 714us/step - loss: 0.7202 - acc: 0.8846\n",
      "Epoch 25/50\n",
      "26/26 [==============================] - 0s 692us/step - loss: 0.6626 - acc: 0.8846\n",
      "Epoch 26/50\n",
      "26/26 [==============================] - 0s 669us/step - loss: 0.6091 - acc: 0.8846\n",
      "Epoch 27/50\n",
      "26/26 [==============================] - 0s 646us/step - loss: 0.5599 - acc: 0.8846\n",
      "Epoch 28/50\n",
      "26/26 [==============================] - 0s 678us/step - loss: 0.5146 - acc: 0.8846\n",
      "Epoch 29/50\n",
      "26/26 [==============================] - 0s 673us/step - loss: 0.4724 - acc: 0.9231\n",
      "Epoch 30/50\n",
      "26/26 [==============================] - 0s 651us/step - loss: 0.4331 - acc: 0.9231\n",
      "Epoch 31/50\n",
      "26/26 [==============================] - 0s 633us/step - loss: 0.3965 - acc: 1.0000\n",
      "Epoch 32/50\n",
      "26/26 [==============================] - 0s 620us/step - loss: 0.3627 - acc: 1.0000\n",
      "Epoch 33/50\n",
      "26/26 [==============================] - 0s 652us/step - loss: 0.3318 - acc: 1.0000\n",
      "Epoch 34/50\n",
      "26/26 [==============================] - 0s 664us/step - loss: 0.3036 - acc: 1.0000\n",
      "Epoch 35/50\n",
      "26/26 [==============================] - 0s 679us/step - loss: 0.2770 - acc: 1.0000\n",
      "Epoch 36/50\n",
      "26/26 [==============================] - 0s 659us/step - loss: 0.2517 - acc: 1.0000\n",
      "Epoch 37/50\n",
      "26/26 [==============================] - 0s 646us/step - loss: 0.2275 - acc: 1.0000\n",
      "Epoch 38/50\n",
      "26/26 [==============================] - 0s 661us/step - loss: 0.2045 - acc: 1.0000\n",
      "Epoch 39/50\n",
      "26/26 [==============================] - 0s 669us/step - loss: 0.1834 - acc: 1.0000\n",
      "Epoch 40/50\n",
      "26/26 [==============================] - 0s 636us/step - loss: 0.1643 - acc: 1.0000\n",
      "Epoch 41/50\n",
      "26/26 [==============================] - 0s 652us/step - loss: 0.1465 - acc: 1.0000\n",
      "Epoch 42/50\n",
      "26/26 [==============================] - 0s 620us/step - loss: 0.1296 - acc: 1.0000\n",
      "Epoch 43/50\n",
      "26/26 [==============================] - 0s 652us/step - loss: 0.1136 - acc: 1.0000\n",
      "Epoch 44/50\n",
      "26/26 [==============================] - 0s 659us/step - loss: 0.0990 - acc: 1.0000\n",
      "Epoch 45/50\n",
      "26/26 [==============================] - 0s 667us/step - loss: 0.0860 - acc: 1.0000\n",
      "Epoch 46/50\n",
      "26/26 [==============================] - 0s 633us/step - loss: 0.0742 - acc: 1.0000\n",
      "Epoch 47/50\n",
      "26/26 [==============================] - 0s 667us/step - loss: 0.0631 - acc: 1.0000\n",
      "Epoch 48/50\n",
      "26/26 [==============================] - 0s 682us/step - loss: 0.0527 - acc: 1.0000\n",
      "Epoch 49/50\n",
      "26/26 [==============================] - 0s 674us/step - loss: 0.0433 - acc: 1.0000\n",
      "Epoch 50/50\n",
      "26/26 [==============================] - 0s 674us/step - loss: 0.0350 - acc: 1.0000\n"
     ]
    },
    {
     "data": {
      "text/plain": [
       "<keras.callbacks.History at 0x111551110>"
      ]
     },
     "execution_count": 11,
     "metadata": {},
     "output_type": "execute_result"
    }
   ],
   "source": [
    "model.fit(train_X, train_Y, epochs=50)"
   ]
  },
  {
   "cell_type": "markdown",
   "metadata": {},
   "source": [
    "# Save Model"
   ]
  },
  {
   "cell_type": "code",
   "execution_count": 12,
   "metadata": {},
   "outputs": [],
   "source": [
    "model.save('SwiftNLCGloveRNN.h5')"
   ]
  },
  {
   "cell_type": "markdown",
   "metadata": {},
   "source": [
    "# Test Model"
   ]
  },
  {
   "cell_type": "code",
   "execution_count": 13,
   "metadata": {},
   "outputs": [
    {
     "name": "stdout",
     "output_type": "stream",
     "text": [
      "Loss: 2.792920 \n",
      "Accuracy: 100.000000 \n"
     ]
    }
   ],
   "source": [
    "# evaluate the model\n",
    "loss, accuracy = model.evaluate(train_X, train_Y, verbose=0)\n",
    "print('Loss: %f ' % (loss*100))\n",
    "print('Accuracy: %f ' % (accuracy*100))"
   ]
  },
  {
   "cell_type": "code",
   "execution_count": 14,
   "metadata": {},
   "outputs": [
    {
     "name": "stdout",
     "output_type": "stream",
     "text": [
      "{u'intents': [{u'intent': u'greeting', u'utterances': [u'Hi', u'How are you', u'Is anyone there?', u'Hello', u'Good day']}, {u'intent': u'goodbye', u'utterances': [u'Bye', u'See you later', u'Goodbye']}, {u'intent': u'thanks', u'utterances': [u'Thanks', u'Thank you', u\"That's helpful\"]}, {u'intent': u'options', u'utterances': [u'How you could help me?', u'What you can do?', u'What help you provide?']}, {u'intent': u'adverse_drug', u'utterances': [u'How to check Adverse drug reaction?', u'List all drugs suitable for patient with adverse reaction', u'Which drugs dont have adverse reaction?']}, {u'intent': u'blood_pressure', u'utterances': [u'Open blood pressure module', u'I want to log blood pressure results', u'Blood pressure data management']}, {u'intent': u'blood_pressure_search', u'utterances': [u'I want to search for blood pressure result history', u'Show blood pressure results for patient', u'Find blood pressure results by ID']}, {u'intent': u'pharmacy_search', u'utterances': [u'Find me a pharmacy', u'Locate pharmacy by name', u'Search pharmacy by parameter']}]}\n",
      "[[125540  78456 375636 151349 278750      0      0      0      0      0\n",
      "       0      0      0      0      0      0      0      0      0      0]]\n",
      "[[3.1418693e-07 6.9870171e-06 3.4882831e-08 1.6154552e-05 1.3498041e-01\n",
      "  1.6811605e-03 8.5966593e-01 3.6491002e-03]]\n",
      "0.85966593\n",
      "6\n",
      "blood_pressure_search\n"
     ]
    }
   ],
   "source": [
    "print(intents)\n",
    "\n",
    "#test = np.array([[178126, 0, 0, 0, 0, 0, 0, 0, 0, 0, 0, 0, 0, 0, 0, 0, 0, 0, 0, 0]])\n",
    "test_docs = getEncodedDocs([\"Display blood values for patient\"])\n",
    "padded_test_docs = pad_sequences(test_docs, maxlen=max_length, padding='post')\n",
    "\n",
    "print(padded_test_docs)\n",
    "\n",
    "y_pred = model.predict(padded_test_docs)\n",
    "print(y_pred)\n",
    "\n",
    "max_value = max(y_pred[0])\n",
    "print(max_value)\n",
    "\n",
    "max_index = y_pred[0].tolist().index(max_value)\n",
    "print(max_index)\n",
    "\n",
    "print(intents['intents'][max_index]['intent'])"
   ]
  },
  {
   "cell_type": "markdown",
   "metadata": {},
   "source": [
    "# Export Word Embedding Array"
   ]
  },
  {
   "cell_type": "code",
   "execution_count": 15,
   "metadata": {},
   "outputs": [
    {
     "name": "stdout",
     "output_type": "stream",
     "text": [
      "('biennials', 75684, 0)\n",
      "('tripolitan', 365444, 1)\n",
      "('biysk', 77319, 2)\n",
      "('woode', 389559, 3)\n",
      "('verplank', 377800, 4)\n",
      "('mdbo', 239051, 5)\n",
      "('sowell', 338477, 6)\n",
      "('mdbu', 239054, 7)\n",
      "('soestdijk', 336526, 8)\n",
      "('spiders', 339422, 9)\n"
     ]
    }
   ],
   "source": [
    "for i in range(0,10):\n",
    "    print(wordToIndex.keys()[i], wordToIndex[wordToIndex.keys()[i]], i)\n",
    "    \n",
    "import json\n",
    "with open('Words.json', 'w') as fp:\n",
    "    json.dump(wordToIndex, fp)\n"
   ]
  },
  {
   "cell_type": "markdown",
   "metadata": {},
   "source": [
    "# Export Model using CoreML Tools"
   ]
  },
  {
   "cell_type": "code",
   "execution_count": 16,
   "metadata": {},
   "outputs": [
    {
     "name": "stderr",
     "output_type": "stream",
     "text": [
      "WARNING:root:Keras version 2.1.5 detected. Last version known to be fully compatible of Keras is 2.1.3 .\n",
      "WARNING:root:TensorFlow version 1.6.0 detected. Last version known to be fully compatible is 1.5.0 .\n"
     ]
    },
    {
     "name": "stdout",
     "output_type": "stream",
     "text": [
      "0 : embedding_1_input, <keras.engine.topology.InputLayer object at 0x13d8ad150>\n",
      "1 : embedding_1, <keras.layers.embeddings.Embedding object at 0x123ebec10>\n",
      "2 : gru_1, <keras.layers.recurrent.GRU object at 0x11089b090>\n",
      "3 : time_distributed_1, <keras.layers.wrappers.TimeDistributed object at 0x123ebef90>\n",
      "4 : activation_1, <keras.layers.core.Activation object at 0x123ebefd0>\n",
      "5 : time_distributed_2, <keras.layers.wrappers.TimeDistributed object at 0x111549d90>\n",
      "6 : activation_2, <keras.layers.core.Activation object at 0x111549fd0>\n",
      "7 : flatten_1, <keras.layers.core.Flatten object at 0x111549f10>\n",
      "8 : dense_3, <keras.layers.core.Dense object at 0x111549c10>\n",
      "9 : dense_3__activation__, <keras.layers.core.Activation object at 0x120069790>\n"
     ]
    },
    {
     "data": {
      "text/plain": [
       "input {\n",
       "  name: \"vectors\"\n",
       "  type {\n",
       "    multiArrayType {\n",
       "      shape: 1\n",
       "      dataType: DOUBLE\n",
       "    }\n",
       "  }\n",
       "}\n",
       "input {\n",
       "  name: \"gru_1_h_in\"\n",
       "  type {\n",
       "    multiArrayType {\n",
       "      shape: 100\n",
       "      dataType: DOUBLE\n",
       "    }\n",
       "    isOptional: true\n",
       "  }\n",
       "}\n",
       "output {\n",
       "  name: \"entities\"\n",
       "  type {\n",
       "    multiArrayType {\n",
       "      shape: 8\n",
       "      dataType: DOUBLE\n",
       "    }\n",
       "  }\n",
       "}\n",
       "output {\n",
       "  name: \"gru_1_h_out\"\n",
       "  type {\n",
       "    multiArrayType {\n",
       "      shape: 100\n",
       "      dataType: DOUBLE\n",
       "    }\n",
       "  }\n",
       "}"
      ]
     },
     "execution_count": 16,
     "metadata": {},
     "output_type": "execute_result"
    }
   ],
   "source": [
    "import coremltools\n",
    "coreml_model = coremltools.converters.keras.convert(model, input_names=\"vectors\", output_names=\"entities\")\n",
    "coreml_model"
   ]
  },
  {
   "cell_type": "code",
   "execution_count": 17,
   "metadata": {},
   "outputs": [],
   "source": [
    "coreml_model.save('SwiftNLCGloveRNN.mlmodel')"
   ]
  },
  {
   "cell_type": "code",
   "execution_count": null,
   "metadata": {},
   "outputs": [],
   "source": []
  }
 ],
 "metadata": {
  "kernelspec": {
   "display_name": "Python 2",
   "language": "python",
   "name": "python2"
  },
  "language_info": {
   "codemirror_mode": {
    "name": "ipython",
    "version": 2
   },
   "file_extension": ".py",
   "mimetype": "text/x-python",
   "name": "python",
   "nbconvert_exporter": "python",
   "pygments_lexer": "ipython2",
   "version": "2.7.14"
  }
 },
 "nbformat": 4,
 "nbformat_minor": 2
}
