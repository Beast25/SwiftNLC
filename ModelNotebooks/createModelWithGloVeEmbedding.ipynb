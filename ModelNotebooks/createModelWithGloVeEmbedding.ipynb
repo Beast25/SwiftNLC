{
 "cells": [
  {
   "cell_type": "code",
   "execution_count": 1,
   "metadata": {},
   "outputs": [
    {
     "name": "stderr",
     "output_type": "stream",
     "text": [
      "/Users/jmangia/anaconda2/envs/SwiftNLC/lib/python2.7/site-packages/h5py/__init__.py:34: FutureWarning: Conversion of the second argument of issubdtype from `float` to `np.floating` is deprecated. In future, it will be treated as `np.float64 == np.dtype(float).type`.\n",
      "  from ._conv import register_converters as _register_converters\n",
      "Using TensorFlow backend.\n"
     ]
    }
   ],
   "source": [
    "from numpy import array\n",
    "from numpy import asarray\n",
    "from numpy import zeros\n",
    "import numpy as np\n",
    "from nltk.tokenize import RegexpTokenizer\n",
    "from keras.preprocessing.text import Tokenizer\n",
    "from keras.preprocessing.sequence import pad_sequences\n",
    "from keras.models import Sequential\n",
    "from keras.layers import Dense\n",
    "from keras.layers import Flatten\n",
    "from keras.layers import Embedding"
   ]
  },
  {
   "cell_type": "code",
   "execution_count": 2,
   "metadata": {},
   "outputs": [],
   "source": [
    "# Prepare Glove File\n",
    "def readGloveFile(gloveFile):\n",
    "    with open(gloveFile, 'r') as f:\n",
    "        wordToGlove = {}  # map from a token (word) to a Glove embedding vector\n",
    "        wordToIndex = {}  # map from a token to an index\n",
    "        indexToWord = {}  # map from an index to a token \n",
    "\n",
    "        for line in f:\n",
    "            record = line.strip().split()\n",
    "            token = record[0] # take the token (word) from the text line\n",
    "            wordToGlove[token] = np.array(record[1:], dtype=np.float64) # associate the Glove embedding vector to a that token (word)\n",
    "\n",
    "        tokens = sorted(wordToGlove.keys())\n",
    "        for idx, tok in enumerate(tokens):\n",
    "            kerasIdx = idx + 1  # 0 is reserved for masking in Keras (see above)\n",
    "            wordToIndex[tok] = kerasIdx # associate an index to a token (word)\n",
    "            indexToWord[kerasIdx] = tok # associate a word to a token (word). Note: inverse of dictionary above\n",
    "\n",
    "    return wordToIndex, indexToWord, wordToGlove"
   ]
  },
  {
   "cell_type": "code",
   "execution_count": 3,
   "metadata": {},
   "outputs": [],
   "source": [
    "# Create Pretrained Keras Embedding Layer\n",
    "def createPretrainedEmbeddingLayer(wordToGlove, wordToIndex, inputLength, isTrainable):\n",
    "    vocabLen = len(wordToIndex) + 1  # adding 1 to account for masking\n",
    "    embDim = next(iter(wordToGlove.values())).shape[0]  # works with any glove dimensions (e.g. 50)\n",
    "\n",
    "    embeddingMatrix = np.zeros((vocabLen, embDim))  # initialize with zeros\n",
    "    for word, index in wordToIndex.items():\n",
    "        embeddingMatrix[index, :] = wordToGlove[word] # create embedding: word index to Glove word embedding\n",
    "\n",
    "    embeddingLayer = Embedding(vocabLen, embDim, weights=[embeddingMatrix], input_length=inputLength, trainable=isTrainable)\n",
    "    return embeddingLayer, embDim"
   ]
  },
  {
   "cell_type": "code",
   "execution_count": 4,
   "metadata": {},
   "outputs": [],
   "source": [
    "# Embedding\n",
    "def getEncodedDocs(docs):\n",
    "    encoded_docs = []\n",
    "\n",
    "    tokenizer = RegexpTokenizer(r'\\w+')\n",
    "    for doc in docs:\n",
    "        encoded_doc = []\n",
    "        for word in tokenizer.tokenize(doc.lower()):\n",
    "            index = wordToIndex[word]\n",
    "            if index is not None:\n",
    "                encoded_doc.append(index)\n",
    "            else:\n",
    "                encoded_doc.append(0)\n",
    "        encoded_docs.append(encoded_doc)\n",
    "\n",
    "    return encoded_docs"
   ]
  },
  {
   "cell_type": "code",
   "execution_count": 5,
   "metadata": {},
   "outputs": [],
   "source": [
    "# usage\n",
    "max_length = 20\n",
    "wordToIndex, indexToWord, wordToGlove = readGloveFile(\"glove/glove.6B.100d.txt\")\n",
    "pretrainedEmbeddingLayer, embDim = createPretrainedEmbeddingLayer(wordToGlove, wordToIndex, max_length, False)"
   ]
  },
  {
   "cell_type": "code",
   "execution_count": 6,
   "metadata": {},
   "outputs": [],
   "source": [
    "# import intents file\n",
    "import json\n",
    "with open('PharmacyDataset.json') as json_data:\n",
    "    intents = json.load(json_data)"
   ]
  },
  {
   "cell_type": "code",
   "execution_count": 7,
   "metadata": {},
   "outputs": [],
   "source": [
    "classes = []\n",
    "encodedUtterances = []\n",
    "\n",
    "# loop through each sentence in our intents utterances\n",
    "for intent in intents['intents']:\n",
    "    classes.append(intent['intent'])\n",
    "    encoded_docs = getEncodedDocs(intent['utterances'])\n",
    "    padded_docs = pad_sequences(encoded_docs, maxlen=max_length, padding='post')\n",
    "    encodedUtterances.append(padded_docs)\n"
   ]
  },
  {
   "cell_type": "code",
   "execution_count": 8,
   "metadata": {},
   "outputs": [
    {
     "name": "stdout",
     "output_type": "stream",
     "text": [
      "([u'greeting', u'goodbye', u'thanks', u'options', u'adverse_drug', u'blood_pressure', u'blood_pressure_search', u'pharmacy_search'], 'classes')\n",
      "(20, 'vector size')\n",
      "(26, 20, 'x')\n",
      "(26, 8, 'y')\n",
      "(26, 20)\n",
      "(26, 8)\n"
     ]
    }
   ],
   "source": [
    "currentClass = 0\n",
    "train_x = []\n",
    "train_y = []\n",
    "\n",
    "for intent in classes:\n",
    "    y = [0] * len(classes)\n",
    "    y[currentClass] = 1\n",
    "\n",
    "    for vector in encodedUtterances[currentClass]:\n",
    "        train_x.append(vector)\n",
    "        train_y.append(y)\n",
    "\n",
    "    currentClass += 1\n",
    "\n",
    "vectorSize = len(train_x[0])\n",
    "\n",
    "train_X = np.array(train_x)\n",
    "train_Y = np.array(train_y)\n",
    "\n",
    "print(classes, \"classes\")\n",
    "print(vectorSize, \"vector size\")\n",
    "print(len(train_x), len(train_x[0]), \"x\")\n",
    "print(len(train_y), len(train_y[0]), \"y\")\n",
    "print(train_X.shape)\n",
    "print(train_Y.shape)"
   ]
  },
  {
   "cell_type": "markdown",
   "metadata": {},
   "source": [
    "# Prepare Keras / TensorFlow model"
   ]
  },
  {
   "cell_type": "code",
   "execution_count": 9,
   "metadata": {},
   "outputs": [],
   "source": [
    "from keras.models import Sequential, Model\n",
    "from keras.layers import Dense, Input, Bidirectional, LSTM, GRU, TimeDistributed, Activation, Flatten, Embedding\n",
    "from keras.optimizers import Adam\n"
   ]
  },
  {
   "cell_type": "code",
   "execution_count": 10,
   "metadata": {},
   "outputs": [
    {
     "name": "stdout",
     "output_type": "stream",
     "text": [
      "model fitting - Bidirectional GRU\n",
      "_________________________________________________________________\n",
      "Layer (type)                 Output Shape              Param #   \n",
      "=================================================================\n",
      "embedding_1 (Embedding)      (None, 20, 100)           40000100  \n",
      "_________________________________________________________________\n",
      "gru_1 (GRU)                  (None, 20, 100)           60300     \n",
      "_________________________________________________________________\n",
      "time_distributed_1 (TimeDist (None, 20, 64)            6464      \n",
      "_________________________________________________________________\n",
      "activation_1 (Activation)    (None, 20, 64)            0         \n",
      "_________________________________________________________________\n",
      "time_distributed_2 (TimeDist (None, 20, 32)            2080      \n",
      "_________________________________________________________________\n",
      "activation_2 (Activation)    (None, 20, 32)            0         \n",
      "_________________________________________________________________\n",
      "flatten_1 (Flatten)          (None, 640)               0         \n",
      "_________________________________________________________________\n",
      "dense_3 (Dense)              (None, 8)                 5128      \n",
      "=================================================================\n",
      "Total params: 40,074,072\n",
      "Trainable params: 73,972\n",
      "Non-trainable params: 40,000,100\n",
      "_________________________________________________________________\n"
     ]
    }
   ],
   "source": [
    "#sequence_input = Input(shape=(None, len(train_x[0])), dtype='float')\n",
    "#bidiGru = Bidirectional(GRU(100))(sequence_input)\n",
    "#preds = Dense(len(train_y[0]), activation='softmax')(bidiGru)\n",
    "#model = Model(sequence_input, preds)\n",
    "#model.compile(loss='categorical_crossentropy', optimizer='rmsprop', metrics=['acc'])\n",
    "\n",
    "model = Sequential([\n",
    "                    pretrainedEmbeddingLayer,\n",
    "                    GRU(embDim, batch_size=1, input_shape=(None, embDim), return_sequences=True),\n",
    "                    TimeDistributed(Dense(64)),\n",
    "                    Activation('relu'),\n",
    "                    TimeDistributed(Dense(32)),\n",
    "                    Activation('relu'),\n",
    "                    Flatten(),\n",
    "                    Dense(len(train_y[0]), activation='softmax')\n",
    "                   ])\n",
    "\n",
    "print(\"model fitting - Bidirectional GRU\")\n",
    "model.summary()\n"
   ]
  },
  {
   "cell_type": "code",
   "execution_count": 11,
   "metadata": {},
   "outputs": [],
   "source": [
    "# Compile model\n",
    "model.compile(loss='categorical_crossentropy', optimizer='adam', metrics=['accuracy'])"
   ]
  },
  {
   "cell_type": "markdown",
   "metadata": {},
   "source": [
    "# Train Model"
   ]
  },
  {
   "cell_type": "code",
   "execution_count": 12,
   "metadata": {},
   "outputs": [
    {
     "name": "stdout",
     "output_type": "stream",
     "text": [
      "Epoch 1/50\n",
      "26/26 [==============================] - 0s 15ms/step - loss: 2.0886 - acc: 0.1154\n",
      "Epoch 2/50\n",
      "26/26 [==============================] - 0s 666us/step - loss: 2.0372 - acc: 0.2308\n",
      "Epoch 3/50\n",
      "26/26 [==============================] - 0s 642us/step - loss: 1.9968 - acc: 0.3077\n",
      "Epoch 4/50\n",
      "26/26 [==============================] - 0s 688us/step - loss: 1.9591 - acc: 0.5000\n",
      "Epoch 5/50\n",
      "26/26 [==============================] - 0s 681us/step - loss: 1.9234 - acc: 0.6154\n",
      "Epoch 6/50\n",
      "26/26 [==============================] - 0s 651us/step - loss: 1.8832 - acc: 0.6154\n",
      "Epoch 7/50\n",
      "26/26 [==============================] - 0s 685us/step - loss: 1.8407 - acc: 0.6923\n",
      "Epoch 8/50\n",
      "26/26 [==============================] - 0s 653us/step - loss: 1.7957 - acc: 0.6538\n",
      "Epoch 9/50\n",
      "26/26 [==============================] - 0s 655us/step - loss: 1.7473 - acc: 0.7308\n",
      "Epoch 10/50\n",
      "26/26 [==============================] - 0s 653us/step - loss: 1.6955 - acc: 0.7308\n",
      "Epoch 11/50\n",
      "26/26 [==============================] - 0s 686us/step - loss: 1.6410 - acc: 0.7308\n",
      "Epoch 12/50\n",
      "26/26 [==============================] - 0s 660us/step - loss: 1.5837 - acc: 0.7308\n",
      "Epoch 13/50\n",
      "26/26 [==============================] - 0s 620us/step - loss: 1.5240 - acc: 0.7308\n",
      "Epoch 14/50\n",
      "26/26 [==============================] - 0s 634us/step - loss: 1.4615 - acc: 0.7308\n",
      "Epoch 15/50\n",
      "26/26 [==============================] - 0s 667us/step - loss: 1.3965 - acc: 0.7308\n",
      "Epoch 16/50\n",
      "26/26 [==============================] - 0s 663us/step - loss: 1.3291 - acc: 0.7308\n",
      "Epoch 17/50\n",
      "26/26 [==============================] - 0s 661us/step - loss: 1.2595 - acc: 0.7308\n",
      "Epoch 18/50\n",
      "26/26 [==============================] - 0s 613us/step - loss: 1.1878 - acc: 0.7692\n",
      "Epoch 19/50\n",
      "26/26 [==============================] - 0s 635us/step - loss: 1.1155 - acc: 0.7692\n",
      "Epoch 20/50\n",
      "26/26 [==============================] - 0s 649us/step - loss: 1.0428 - acc: 0.7692\n",
      "Epoch 21/50\n",
      "26/26 [==============================] - 0s 661us/step - loss: 0.9703 - acc: 0.7692\n",
      "Epoch 22/50\n",
      "26/26 [==============================] - 0s 681us/step - loss: 0.8980 - acc: 0.7692\n",
      "Epoch 23/50\n",
      "26/26 [==============================] - 0s 636us/step - loss: 0.8281 - acc: 0.7692\n",
      "Epoch 24/50\n",
      "26/26 [==============================] - 0s 686us/step - loss: 0.7601 - acc: 0.7692\n",
      "Epoch 25/50\n",
      "26/26 [==============================] - 0s 692us/step - loss: 0.6948 - acc: 0.7692\n",
      "Epoch 26/50\n",
      "26/26 [==============================] - 0s 649us/step - loss: 0.6327 - acc: 0.8462\n",
      "Epoch 27/50\n",
      "26/26 [==============================] - 0s 689us/step - loss: 0.5753 - acc: 0.8462\n",
      "Epoch 28/50\n",
      "26/26 [==============================] - 0s 691us/step - loss: 0.5225 - acc: 0.8462\n",
      "Epoch 29/50\n",
      "26/26 [==============================] - 0s 712us/step - loss: 0.4747 - acc: 0.8462\n",
      "Epoch 30/50\n",
      "26/26 [==============================] - 0s 664us/step - loss: 0.4313 - acc: 0.8846\n",
      "Epoch 31/50\n",
      "26/26 [==============================] - 0s 665us/step - loss: 0.3918 - acc: 0.9615\n",
      "Epoch 32/50\n",
      "26/26 [==============================] - 0s 675us/step - loss: 0.3561 - acc: 0.9615\n",
      "Epoch 33/50\n",
      "26/26 [==============================] - 0s 645us/step - loss: 0.3239 - acc: 1.0000\n",
      "Epoch 34/50\n",
      "26/26 [==============================] - 0s 686us/step - loss: 0.2946 - acc: 1.0000\n",
      "Epoch 35/50\n",
      "26/26 [==============================] - 0s 674us/step - loss: 0.2681 - acc: 1.0000\n",
      "Epoch 36/50\n",
      "26/26 [==============================] - 0s 648us/step - loss: 0.2439 - acc: 1.0000\n",
      "Epoch 37/50\n",
      "26/26 [==============================] - 0s 661us/step - loss: 0.2214 - acc: 1.0000\n",
      "Epoch 38/50\n",
      "26/26 [==============================] - 0s 653us/step - loss: 0.1998 - acc: 1.0000\n",
      "Epoch 39/50\n",
      "26/26 [==============================] - 0s 655us/step - loss: 0.1791 - acc: 1.0000\n",
      "Epoch 40/50\n",
      "26/26 [==============================] - 0s 659us/step - loss: 0.1592 - acc: 1.0000\n",
      "Epoch 41/50\n",
      "26/26 [==============================] - 0s 690us/step - loss: 0.1407 - acc: 1.0000\n",
      "Epoch 42/50\n",
      "26/26 [==============================] - 0s 687us/step - loss: 0.1231 - acc: 1.0000\n",
      "Epoch 43/50\n",
      "26/26 [==============================] - 0s 673us/step - loss: 0.1066 - acc: 1.0000\n",
      "Epoch 44/50\n",
      "26/26 [==============================] - 0s 721us/step - loss: 0.0912 - acc: 1.0000\n",
      "Epoch 45/50\n",
      "26/26 [==============================] - 0s 695us/step - loss: 0.0773 - acc: 1.0000\n",
      "Epoch 46/50\n",
      "26/26 [==============================] - 0s 712us/step - loss: 0.0652 - acc: 1.0000\n",
      "Epoch 47/50\n",
      "26/26 [==============================] - 0s 698us/step - loss: 0.0546 - acc: 1.0000\n",
      "Epoch 48/50\n",
      "26/26 [==============================] - 0s 671us/step - loss: 0.0456 - acc: 1.0000\n",
      "Epoch 49/50\n",
      "26/26 [==============================] - 0s 664us/step - loss: 0.0380 - acc: 1.0000\n",
      "Epoch 50/50\n",
      "26/26 [==============================] - 0s 697us/step - loss: 0.0316 - acc: 1.0000\n"
     ]
    },
    {
     "data": {
      "text/plain": [
       "<keras.callbacks.History at 0x1202f1090>"
      ]
     },
     "execution_count": 12,
     "metadata": {},
     "output_type": "execute_result"
    }
   ],
   "source": [
    "model.fit(train_X, train_Y, epochs=50)"
   ]
  },
  {
   "cell_type": "markdown",
   "metadata": {},
   "source": [
    "# Export Model using CoreML Tools"
   ]
  },
  {
   "cell_type": "code",
   "execution_count": 13,
   "metadata": {},
   "outputs": [],
   "source": [
    "model.save('SwiftNLCGloveRNN.h5')"
   ]
  },
  {
   "cell_type": "code",
   "execution_count": 14,
   "metadata": {},
   "outputs": [
    {
     "name": "stderr",
     "output_type": "stream",
     "text": [
      "WARNING:root:Keras version 2.1.5 detected. Last version known to be fully compatible of Keras is 2.1.3 .\n",
      "WARNING:root:TensorFlow version 1.6.0 detected. Last version known to be fully compatible is 1.5.0 .\n"
     ]
    },
    {
     "name": "stdout",
     "output_type": "stream",
     "text": [
      "0 : embedding_1_input, <keras.engine.topology.InputLayer object at 0x13f8ac090>\n",
      "1 : embedding_1, <keras.layers.embeddings.Embedding object at 0x1202d1550>\n",
      "2 : gru_1, <keras.layers.recurrent.GRU object at 0x125ebaad0>\n",
      "3 : time_distributed_1, <keras.layers.wrappers.TimeDistributed object at 0x125ebac10>\n",
      "4 : activation_1, <keras.layers.core.Activation object at 0x125ebad50>\n",
      "5 : time_distributed_2, <keras.layers.wrappers.TimeDistributed object at 0x125ebae90>\n",
      "6 : activation_2, <keras.layers.core.Activation object at 0x125ebaed0>\n",
      "7 : flatten_1, <keras.layers.core.Flatten object at 0x125ebaf10>\n",
      "8 : dense_3, <keras.layers.core.Dense object at 0x125ebaf90>\n",
      "9 : dense_3__activation__, <keras.layers.core.Activation object at 0x122091e50>\n"
     ]
    },
    {
     "data": {
      "text/plain": [
       "input {\n",
       "  name: \"vectors\"\n",
       "  type {\n",
       "    multiArrayType {\n",
       "      shape: 1\n",
       "      dataType: DOUBLE\n",
       "    }\n",
       "  }\n",
       "}\n",
       "input {\n",
       "  name: \"gru_1_h_in\"\n",
       "  type {\n",
       "    multiArrayType {\n",
       "      shape: 100\n",
       "      dataType: DOUBLE\n",
       "    }\n",
       "    isOptional: true\n",
       "  }\n",
       "}\n",
       "output {\n",
       "  name: \"entities\"\n",
       "  type {\n",
       "    multiArrayType {\n",
       "      shape: 8\n",
       "      dataType: DOUBLE\n",
       "    }\n",
       "  }\n",
       "}\n",
       "output {\n",
       "  name: \"gru_1_h_out\"\n",
       "  type {\n",
       "    multiArrayType {\n",
       "      shape: 100\n",
       "      dataType: DOUBLE\n",
       "    }\n",
       "  }\n",
       "}"
      ]
     },
     "execution_count": 14,
     "metadata": {},
     "output_type": "execute_result"
    }
   ],
   "source": [
    "import coremltools\n",
    "coreml_model = coremltools.converters.keras.convert(model, input_names=\"vectors\", output_names=\"entities\")\n",
    "coreml_model"
   ]
  },
  {
   "cell_type": "code",
   "execution_count": 15,
   "metadata": {},
   "outputs": [],
   "source": [
    "coreml_model.save('SwiftNLCGloveRNN.mlmodel')"
   ]
  },
  {
   "cell_type": "code",
   "execution_count": null,
   "metadata": {},
   "outputs": [],
   "source": []
  }
 ],
 "metadata": {
  "kernelspec": {
   "display_name": "Python 2",
   "language": "python",
   "name": "python2"
  },
  "language_info": {
   "codemirror_mode": {
    "name": "ipython",
    "version": 2
   },
   "file_extension": ".py",
   "mimetype": "text/x-python",
   "name": "python",
   "nbconvert_exporter": "python",
   "pygments_lexer": "ipython2",
   "version": "2.7.14"
  }
 },
 "nbformat": 4,
 "nbformat_minor": 2
}
