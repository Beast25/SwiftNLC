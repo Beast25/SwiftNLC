{
 "cells": [
  {
   "cell_type": "code",
   "execution_count": 65,
   "metadata": {},
   "outputs": [],
   "source": [
    "import numpy as np\n",
    "import tensorflow as tf\n",
    "import random"
   ]
  },
  {
   "cell_type": "markdown",
   "metadata": {},
   "source": [
    "# NLTK one_hot encoding test"
   ]
  },
  {
   "cell_type": "code",
   "execution_count": 66,
   "metadata": {},
   "outputs": [],
   "source": [
    "import nltk\n",
    "from nltk.stem.lancaster import LancasterStemmer\n",
    "stemmer = LancasterStemmer()\n",
    "\n",
    "\n",
    "# import intents file\n",
    "import json\n",
    "with open('dataset.json') as json_data:\n",
    "    intents = json.load(json_data)"
   ]
  },
  {
   "cell_type": "code",
   "execution_count": 67,
   "metadata": {},
   "outputs": [
    {
     "name": "stdout",
     "output_type": "stream",
     "text": [
      "(25, 'classes', [u'about_VA', u'capabilities', u'compound_questions', u'decision_replies', u'goodbyes', u'greetings', u'improving_system', u'information_request', u'interface_interactions', u'interface_issues', u'locate_amenity', u'navigation', u'negative_reaction', u'not_specified', u'out_of_scope', u'phone', u'positive_reaction', u'selections', u'system_reliance', u'traffic_update', u'turn_down', u'turn_off', u'turn_on', u'turn_up', u'weather'])\n",
      "(1320, 'unique stemmed words')\n",
      "(2520, 'documents')\n",
      "([u'hey', u',', u'now', u'it', u\"'s\", u'raining', u',', u'you', u'said', u'you', u'did', u\"n't\", u'know', u'anything', u'about', u'that', u'.', u'Are', u'you', u'a', u'liar', u'?'], u'system_reliance')\n",
      "([u'do', u'you', u'tell', u'the', u'truth'], u'system_reliance')\n"
     ]
    }
   ],
   "source": [
    "words = []\n",
    "classes = []\n",
    "documents = []\n",
    "ignore_words = ['?']\n",
    "# loop through each sentence in our intents utterances\n",
    "for intent in intents['intents']:\n",
    "    for pattern in intent['utterances']:\n",
    "        # tokenize each word in the sentence\n",
    "        w = nltk.word_tokenize(pattern)\n",
    "        # add to our words list\n",
    "        words.extend(w)\n",
    "        # add to documents in our corpus\n",
    "        documents.append((w, intent['intent']))\n",
    "        # add to our classes list\n",
    "        if intent['intent'] not in classes:\n",
    "            classes.append(intent['intent'])\n",
    "\n",
    "# stem and lower each word and remove duplicates\n",
    "words = [stemmer.stem(w.lower()) for w in words if w not in ignore_words]\n",
    "words = sorted(list(set(words)))\n",
    "\n",
    "# remove duplicates\n",
    "classes = sorted(list(set(classes)))\n",
    "\n",
    "print (len(classes), \"classes\", classes)\n",
    "print (len(words), \"unique stemmed words\")\n",
    "print (len(documents), \"documents\")\n",
    "print (documents[0])\n",
    "print (documents[1])\n",
    "\n",
    "\n"
   ]
  },
  {
   "cell_type": "code",
   "execution_count": 68,
   "metadata": {},
   "outputs": [
    {
     "name": "stdout",
     "output_type": "stream",
     "text": [
      "(1320, 'bags')\n",
      "(2520, 'trainings')\n"
     ]
    }
   ],
   "source": [
    "# create our training data\n",
    "training = []\n",
    "# create an empty array for our output\n",
    "output_empty = [0] * len(classes)\n",
    "\n",
    "# training set, bag of words for each sentence\n",
    "for doc in documents:\n",
    "    # initialize our bag of words\n",
    "    bag = []\n",
    "    # list of tokenized words for the pattern\n",
    "    pattern_words = doc[0]\n",
    "    # stem each word\n",
    "    pattern_words = [stemmer.stem(word.lower()) for word in pattern_words]\n",
    "    # create our bag of words array\n",
    "    for w in words:\n",
    "        bag.append(1) if w in pattern_words else bag.append(0)\n",
    "\n",
    "    # output is a '0' for each intent and '1' for current intent\n",
    "    output_row = list(output_empty)\n",
    "    output_row[classes.index(doc[1])] = 1\n",
    "\n",
    "    training.append([bag, output_row])\n",
    "\n",
    "print (len(bag), \"bags\")    \n",
    "print (len(training), \"trainings\")    \n",
    "\n",
    "    \n",
    "# shuffle our features and turn into np.array\n",
    "random.shuffle(training)\n",
    "training = np.array(training)\n",
    "\n",
    "# create train and test lists\n",
    "train_x = list(training[:,0])\n",
    "train_y = list(training[:,1])"
   ]
  },
  {
   "cell_type": "markdown",
   "metadata": {},
   "source": [
    "# Prepare Keras / TensorFlow model"
   ]
  },
  {
   "cell_type": "code",
   "execution_count": 69,
   "metadata": {},
   "outputs": [],
   "source": [
    "from keras.models import Sequential\n",
    "from keras.layers import Dense\n",
    "from keras.optimizers import Adam\n"
   ]
  },
  {
   "cell_type": "code",
   "execution_count": 70,
   "metadata": {},
   "outputs": [
    {
     "name": "stdout",
     "output_type": "stream",
     "text": [
      "_________________________________________________________________\n",
      "Layer (type)                 Output Shape              Param #   \n",
      "=================================================================\n",
      "dense_7 (Dense)              (None, 8)                 10568     \n",
      "_________________________________________________________________\n",
      "dense_8 (Dense)              (None, 8)                 72        \n",
      "_________________________________________________________________\n",
      "dense_9 (Dense)              (None, 25)                225       \n",
      "=================================================================\n",
      "Total params: 10,865\n",
      "Trainable params: 10,865\n",
      "Non-trainable params: 0\n",
      "_________________________________________________________________\n"
     ]
    }
   ],
   "source": [
    "model = Sequential()\n",
    "model.add(Dense(8, input_dim=len(train_x[0]), activation='relu'))\n",
    "model.add(Dense(8, activation='relu'))\n",
    "model.add(Dense(len(train_y[0]), activation='softmax'))\n",
    "model.summary()\n"
   ]
  },
  {
   "cell_type": "code",
   "execution_count": 71,
   "metadata": {},
   "outputs": [],
   "source": [
    "# Compile model\n",
    "model.compile(loss='categorical_crossentropy', optimizer='adam', metrics=['accuracy'])\n"
   ]
  },
  {
   "cell_type": "markdown",
   "metadata": {},
   "source": [
    "# Train Model"
   ]
  },
  {
   "cell_type": "code",
   "execution_count": 72,
   "metadata": {},
   "outputs": [
    {
     "name": "stdout",
     "output_type": "stream",
     "text": [
      "Epoch 1/100\n",
      "2520/2520 [==============================] - 0s 117us/step - loss: 3.0823 - acc: 0.2940\n",
      "Epoch 2/100\n",
      "2520/2520 [==============================] - 0s 48us/step - loss: 2.4973 - acc: 0.3119\n",
      "Epoch 3/100\n",
      "2520/2520 [==============================] - 0s 49us/step - loss: 1.9712 - acc: 0.4639\n",
      "Epoch 4/100\n",
      "2520/2520 [==============================] - 0s 48us/step - loss: 1.6765 - acc: 0.5603\n",
      "Epoch 5/100\n",
      "2520/2520 [==============================] - 0s 46us/step - loss: 1.4293 - acc: 0.6024\n",
      "Epoch 6/100\n",
      "2520/2520 [==============================] - 0s 48us/step - loss: 1.2346 - acc: 0.6548\n",
      "Epoch 7/100\n",
      "2520/2520 [==============================] - 0s 48us/step - loss: 1.1044 - acc: 0.6937\n",
      "Epoch 8/100\n",
      "2520/2520 [==============================] - 0s 48us/step - loss: 1.0099 - acc: 0.7222\n",
      "Epoch 9/100\n",
      "2520/2520 [==============================] - 0s 46us/step - loss: 0.9370 - acc: 0.7417\n",
      "Epoch 10/100\n",
      "2520/2520 [==============================] - 0s 51us/step - loss: 0.8759 - acc: 0.7738\n",
      "Epoch 11/100\n",
      "2520/2520 [==============================] - 0s 55us/step - loss: 0.8218 - acc: 0.7909\n",
      "Epoch 12/100\n",
      "2520/2520 [==============================] - 0s 49us/step - loss: 0.7732 - acc: 0.8083\n",
      "Epoch 13/100\n",
      "2520/2520 [==============================] - 0s 49us/step - loss: 0.7290 - acc: 0.8127\n",
      "Epoch 14/100\n",
      "2520/2520 [==============================] - 0s 48us/step - loss: 0.6872 - acc: 0.8198\n",
      "Epoch 15/100\n",
      "2520/2520 [==============================] - 0s 48us/step - loss: 0.6491 - acc: 0.8234\n",
      "Epoch 16/100\n",
      "2520/2520 [==============================] - 0s 49us/step - loss: 0.6145 - acc: 0.8290\n",
      "Epoch 17/100\n",
      "2520/2520 [==============================] - 0s 49us/step - loss: 0.5831 - acc: 0.8329\n",
      "Epoch 18/100\n",
      "2520/2520 [==============================] - 0s 47us/step - loss: 0.5539 - acc: 0.8385\n",
      "Epoch 19/100\n",
      "2520/2520 [==============================] - 0s 51us/step - loss: 0.5270 - acc: 0.8516\n",
      "Epoch 20/100\n",
      "2520/2520 [==============================] - 0s 48us/step - loss: 0.5015 - acc: 0.8603\n",
      "Epoch 21/100\n",
      "2520/2520 [==============================] - 0s 48us/step - loss: 0.4773 - acc: 0.8671\n",
      "Epoch 22/100\n",
      "2520/2520 [==============================] - 0s 48us/step - loss: 0.4543 - acc: 0.8817\n",
      "Epoch 23/100\n",
      "2520/2520 [==============================] - 0s 48us/step - loss: 0.4335 - acc: 0.8865\n",
      "Epoch 24/100\n",
      "2520/2520 [==============================] - 0s 46us/step - loss: 0.4121 - acc: 0.8968\n",
      "Epoch 25/100\n",
      "2520/2520 [==============================] - 0s 45us/step - loss: 0.3933 - acc: 0.8992\n",
      "Epoch 26/100\n",
      "2520/2520 [==============================] - 0s 48us/step - loss: 0.3745 - acc: 0.9067\n",
      "Epoch 27/100\n",
      "2520/2520 [==============================] - 0s 53us/step - loss: 0.3569 - acc: 0.9091\n",
      "Epoch 28/100\n",
      "2520/2520 [==============================] - 0s 50us/step - loss: 0.3415 - acc: 0.9139\n",
      "Epoch 29/100\n",
      "2520/2520 [==============================] - 0s 52us/step - loss: 0.3251 - acc: 0.9206\n",
      "Epoch 30/100\n",
      "2520/2520 [==============================] - 0s 51us/step - loss: 0.3109 - acc: 0.9274\n",
      "Epoch 31/100\n",
      "2520/2520 [==============================] - 0s 53us/step - loss: 0.2970 - acc: 0.9310\n",
      "Epoch 32/100\n",
      "2520/2520 [==============================] - 0s 52us/step - loss: 0.2834 - acc: 0.9345\n",
      "Epoch 33/100\n",
      "2520/2520 [==============================] - 0s 52us/step - loss: 0.2710 - acc: 0.9365\n",
      "Epoch 34/100\n",
      "2520/2520 [==============================] - 0s 48us/step - loss: 0.2587 - acc: 0.9409\n",
      "Epoch 35/100\n",
      "2520/2520 [==============================] - 0s 48us/step - loss: 0.2474 - acc: 0.9417\n",
      "Epoch 36/100\n",
      "2520/2520 [==============================] - 0s 47us/step - loss: 0.2361 - acc: 0.9456\n",
      "Epoch 37/100\n",
      "2520/2520 [==============================] - 0s 46us/step - loss: 0.2258 - acc: 0.9476\n",
      "Epoch 38/100\n",
      "2520/2520 [==============================] - 0s 49us/step - loss: 0.2152 - acc: 0.9492\n",
      "Epoch 39/100\n",
      "2520/2520 [==============================] - 0s 48us/step - loss: 0.2065 - acc: 0.9520\n",
      "Epoch 40/100\n",
      "2520/2520 [==============================] - 0s 48us/step - loss: 0.1978 - acc: 0.9536\n",
      "Epoch 41/100\n",
      "2520/2520 [==============================] - 0s 47us/step - loss: 0.1891 - acc: 0.9544\n",
      "Epoch 42/100\n",
      "2520/2520 [==============================] - 0s 46us/step - loss: 0.1817 - acc: 0.9575\n",
      "Epoch 43/100\n",
      "2520/2520 [==============================] - 0s 48us/step - loss: 0.1738 - acc: 0.9607\n",
      "Epoch 44/100\n",
      "2520/2520 [==============================] - 0s 48us/step - loss: 0.1666 - acc: 0.9635\n",
      "Epoch 45/100\n",
      "2520/2520 [==============================] - 0s 47us/step - loss: 0.1598 - acc: 0.9627\n",
      "Epoch 46/100\n",
      "2520/2520 [==============================] - 0s 48us/step - loss: 0.1534 - acc: 0.9655\n",
      "Epoch 47/100\n",
      "2520/2520 [==============================] - 0s 45us/step - loss: 0.1479 - acc: 0.9671\n",
      "Epoch 48/100\n",
      "2520/2520 [==============================] - 0s 46us/step - loss: 0.1415 - acc: 0.9690\n",
      "Epoch 49/100\n",
      "2520/2520 [==============================] - 0s 45us/step - loss: 0.1364 - acc: 0.9694\n",
      "Epoch 50/100\n",
      "2520/2520 [==============================] - 0s 49us/step - loss: 0.1320 - acc: 0.9694\n",
      "Epoch 51/100\n",
      "2520/2520 [==============================] - 0s 47us/step - loss: 0.1262 - acc: 0.9714\n",
      "Epoch 52/100\n",
      "2520/2520 [==============================] - 0s 48us/step - loss: 0.1220 - acc: 0.9734\n",
      "Epoch 53/100\n",
      "2520/2520 [==============================] - 0s 49us/step - loss: 0.1173 - acc: 0.9754\n",
      "Epoch 54/100\n",
      "2520/2520 [==============================] - 0s 46us/step - loss: 0.1132 - acc: 0.9758\n",
      "Epoch 55/100\n",
      "2520/2520 [==============================] - 0s 46us/step - loss: 0.1090 - acc: 0.9762\n",
      "Epoch 56/100\n",
      "2520/2520 [==============================] - 0s 47us/step - loss: 0.1059 - acc: 0.9774\n",
      "Epoch 57/100\n",
      "2520/2520 [==============================] - 0s 48us/step - loss: 0.1023 - acc: 0.9790\n",
      "Epoch 58/100\n",
      "2520/2520 [==============================] - 0s 50us/step - loss: 0.0988 - acc: 0.9794\n",
      "Epoch 59/100\n",
      "2520/2520 [==============================] - 0s 50us/step - loss: 0.0958 - acc: 0.9794\n",
      "Epoch 60/100\n",
      "2520/2520 [==============================] - 0s 49us/step - loss: 0.0925 - acc: 0.9794\n",
      "Epoch 61/100\n",
      "2520/2520 [==============================] - 0s 46us/step - loss: 0.0900 - acc: 0.9817\n",
      "Epoch 62/100\n",
      "2520/2520 [==============================] - 0s 49us/step - loss: 0.0864 - acc: 0.9810\n",
      "Epoch 63/100\n",
      "2520/2520 [==============================] - 0s 58us/step - loss: 0.0834 - acc: 0.9837\n",
      "Epoch 64/100\n",
      "2520/2520 [==============================] - 0s 55us/step - loss: 0.0811 - acc: 0.9841\n",
      "Epoch 65/100\n",
      "2520/2520 [==============================] - 0s 46us/step - loss: 0.0785 - acc: 0.9841\n",
      "Epoch 66/100\n",
      "2520/2520 [==============================] - 0s 47us/step - loss: 0.0755 - acc: 0.9845\n",
      "Epoch 67/100\n",
      "2520/2520 [==============================] - 0s 52us/step - loss: 0.0731 - acc: 0.9849\n",
      "Epoch 68/100\n",
      "2520/2520 [==============================] - 0s 60us/step - loss: 0.0707 - acc: 0.9849\n",
      "Epoch 69/100\n",
      "2520/2520 [==============================] - 0s 48us/step - loss: 0.0685 - acc: 0.9857\n",
      "Epoch 70/100\n",
      "2520/2520 [==============================] - 0s 48us/step - loss: 0.0666 - acc: 0.9853\n",
      "Epoch 71/100\n",
      "2520/2520 [==============================] - 0s 47us/step - loss: 0.0641 - acc: 0.9877\n",
      "Epoch 72/100\n",
      "2520/2520 [==============================] - 0s 50us/step - loss: 0.0622 - acc: 0.9873\n",
      "Epoch 73/100\n",
      "2520/2520 [==============================] - 0s 53us/step - loss: 0.0609 - acc: 0.9857\n",
      "Epoch 74/100\n",
      "2520/2520 [==============================] - 0s 49us/step - loss: 0.0585 - acc: 0.9881\n",
      "Epoch 75/100\n",
      "2520/2520 [==============================] - 0s 47us/step - loss: 0.0568 - acc: 0.9885\n",
      "Epoch 76/100\n",
      "2520/2520 [==============================] - 0s 49us/step - loss: 0.0551 - acc: 0.9873\n",
      "Epoch 77/100\n",
      "2520/2520 [==============================] - 0s 49us/step - loss: 0.0536 - acc: 0.9889\n",
      "Epoch 78/100\n",
      "2520/2520 [==============================] - 0s 49us/step - loss: 0.0516 - acc: 0.9897\n",
      "Epoch 79/100\n",
      "2520/2520 [==============================] - 0s 49us/step - loss: 0.0504 - acc: 0.9897\n",
      "Epoch 80/100\n",
      "2520/2520 [==============================] - 0s 55us/step - loss: 0.0488 - acc: 0.9889\n",
      "Epoch 81/100\n",
      "2520/2520 [==============================] - 0s 51us/step - loss: 0.0475 - acc: 0.9893\n",
      "Epoch 82/100\n",
      "2520/2520 [==============================] - 0s 52us/step - loss: 0.0462 - acc: 0.9897\n",
      "Epoch 83/100\n"
     ]
    },
    {
     "name": "stdout",
     "output_type": "stream",
     "text": [
      "2520/2520 [==============================] - 0s 56us/step - loss: 0.0454 - acc: 0.9893\n",
      "Epoch 84/100\n",
      "2520/2520 [==============================] - 0s 53us/step - loss: 0.0442 - acc: 0.9901\n",
      "Epoch 85/100\n",
      "2520/2520 [==============================] - 0s 50us/step - loss: 0.0428 - acc: 0.9897\n",
      "Epoch 86/100\n",
      "2520/2520 [==============================] - 0s 55us/step - loss: 0.0413 - acc: 0.9913\n",
      "Epoch 87/100\n",
      "2520/2520 [==============================] - 0s 52us/step - loss: 0.0402 - acc: 0.9901\n",
      "Epoch 88/100\n",
      "2520/2520 [==============================] - 0s 58us/step - loss: 0.0391 - acc: 0.9905\n",
      "Epoch 89/100\n",
      "2520/2520 [==============================] - 0s 59us/step - loss: 0.0389 - acc: 0.9909\n",
      "Epoch 90/100\n",
      "2520/2520 [==============================] - 0s 53us/step - loss: 0.0372 - acc: 0.9893\n",
      "Epoch 91/100\n",
      "2520/2520 [==============================] - 0s 55us/step - loss: 0.0360 - acc: 0.9909\n",
      "Epoch 92/100\n",
      "2520/2520 [==============================] - 0s 53us/step - loss: 0.0355 - acc: 0.9905\n",
      "Epoch 93/100\n",
      "2520/2520 [==============================] - 0s 53us/step - loss: 0.0347 - acc: 0.9905\n",
      "Epoch 94/100\n",
      "2520/2520 [==============================] - 0s 51us/step - loss: 0.0337 - acc: 0.9909\n",
      "Epoch 95/100\n",
      "2520/2520 [==============================] - 0s 49us/step - loss: 0.0330 - acc: 0.9905\n",
      "Epoch 96/100\n",
      "2520/2520 [==============================] - 0s 47us/step - loss: 0.0320 - acc: 0.9913\n",
      "Epoch 97/100\n",
      "2520/2520 [==============================] - 0s 50us/step - loss: 0.0311 - acc: 0.9921\n",
      "Epoch 98/100\n",
      "2520/2520 [==============================] - 0s 48us/step - loss: 0.0308 - acc: 0.9909\n",
      "Epoch 99/100\n",
      "2520/2520 [==============================] - 0s 49us/step - loss: 0.0294 - acc: 0.9913\n",
      "Epoch 100/100\n",
      "2520/2520 [==============================] - 0s 50us/step - loss: 0.0292 - acc: 0.9913\n"
     ]
    },
    {
     "data": {
      "text/plain": [
       "<keras.callbacks.History at 0x127b0ea50>"
      ]
     },
     "execution_count": 72,
     "metadata": {},
     "output_type": "execute_result"
    }
   ],
   "source": [
    "model.fit(np.array(train_x), np.array(train_y), epochs=100)"
   ]
  },
  {
   "cell_type": "markdown",
   "metadata": {},
   "source": [
    "# Test Model"
   ]
  },
  {
   "cell_type": "code",
   "execution_count": 73,
   "metadata": {},
   "outputs": [],
   "source": [
    "def clean_up_sentence(sentence):\n",
    "    # tokenize the pattern\n",
    "    sentence_words = nltk.word_tokenize(sentence)\n",
    "    # stem each word\n",
    "    sentence_words = [stemmer.stem(word.lower()) for word in sentence_words]\n",
    "    return sentence_words\n",
    "\n",
    "# return bag of words array: 0 or 1 for each word in the bag that exists in the sentence\n",
    "def bow(sentence, words, show_details=False):\n",
    "    # tokenize the pattern\n",
    "    sentence_words = clean_up_sentence(sentence)\n",
    "    # bag of words\n",
    "    bag = [0]*len(words)  \n",
    "    for s in sentence_words:\n",
    "        for i,w in enumerate(words):\n",
    "            if w == s: \n",
    "                bag[i] = 1\n",
    "                if show_details:\n",
    "                    print (\"found in bag: %s\" % w)\n",
    "\n",
    "    return(np.array(bag))"
   ]
  },
  {
   "cell_type": "code",
   "execution_count": 74,
   "metadata": {},
   "outputs": [
    {
     "name": "stdout",
     "output_type": "stream",
     "text": [
      "[0 0 0 ... 0 0 0]\n",
      "[u'about_VA', u'capabilities', u'compound_questions', u'decision_replies', u'goodbyes', u'greetings', u'improving_system', u'information_request', u'interface_interactions', u'interface_issues', u'locate_amenity', u'navigation', u'negative_reaction', u'not_specified', u'out_of_scope', u'phone', u'positive_reaction', u'selections', u'system_reliance', u'traffic_update', u'turn_down', u'turn_off', u'turn_on', u'turn_up', u'weather']\n"
     ]
    }
   ],
   "source": [
    "p = bow(\"Turn on the radio\", words)\n",
    "print (p)\n",
    "print (classes)"
   ]
  },
  {
   "cell_type": "code",
   "execution_count": 75,
   "metadata": {},
   "outputs": [],
   "source": [
    "y_pred = model.predict(np.array([p]))"
   ]
  },
  {
   "cell_type": "code",
   "execution_count": 76,
   "metadata": {},
   "outputs": [
    {
     "name": "stdout",
     "output_type": "stream",
     "text": [
      "[[1.84779242e-15 1.48731374e-11 5.13623527e-04 4.74194820e-07\n",
      "  4.60809862e-12 9.44413898e-08 4.74447486e-23 1.58046010e-09\n",
      "  1.75314049e-17 3.78078738e-07 1.43997797e-13 1.91251182e-11\n",
      "  4.92094938e-14 3.73306875e-16 8.15088157e-08 5.76928752e-16\n",
      "  5.85259236e-15 3.10337365e-21 1.00107344e-11 1.04443245e-14\n",
      "  2.23725988e-03 1.20815820e-08 9.95596945e-01 1.65118114e-03\n",
      "  2.15891249e-15]]\n"
     ]
    }
   ],
   "source": [
    "print(y_pred)"
   ]
  },
  {
   "cell_type": "code",
   "execution_count": 77,
   "metadata": {},
   "outputs": [
    {
     "name": "stdout",
     "output_type": "stream",
     "text": [
      "0.99559695\n"
     ]
    }
   ],
   "source": [
    "print(y_pred[0][22])"
   ]
  },
  {
   "cell_type": "code",
   "execution_count": 78,
   "metadata": {},
   "outputs": [
    {
     "name": "stdout",
     "output_type": "stream",
     "text": [
      "turn_on\n"
     ]
    }
   ],
   "source": [
    "print(classes[22])"
   ]
  },
  {
   "cell_type": "markdown",
   "metadata": {},
   "source": [
    "# Export Model using CoreML Tools"
   ]
  },
  {
   "cell_type": "code",
   "execution_count": 79,
   "metadata": {},
   "outputs": [],
   "source": [
    "model.save('Car.h5')"
   ]
  },
  {
   "cell_type": "code",
   "execution_count": 80,
   "metadata": {},
   "outputs": [
    {
     "name": "stderr",
     "output_type": "stream",
     "text": [
      "WARNING:root:Keras version 2.1.5 detected. Last version known to be fully compatible of Keras is 2.1.3 .\n",
      "WARNING:root:TensorFlow version 1.6.0 detected. Last version known to be fully compatible is 1.5.0 .\n"
     ]
    },
    {
     "name": "stdout",
     "output_type": "stream",
     "text": [
      "0 : dense_7_input, <keras.engine.topology.InputLayer object at 0x12552a990>\n",
      "1 : dense_7, <keras.layers.core.Dense object at 0x12552aa90>\n",
      "2 : dense_7__activation__, <keras.layers.core.Activation object at 0x127f5f790>\n",
      "3 : dense_8, <keras.layers.core.Dense object at 0x12552a550>\n",
      "4 : dense_8__activation__, <keras.layers.core.Activation object at 0x127f5f810>\n",
      "5 : dense_9, <keras.layers.core.Dense object at 0x12552acd0>\n",
      "6 : dense_9__activation__, <keras.layers.core.Activation object at 0x127f5f890>\n"
     ]
    },
    {
     "data": {
      "text/plain": [
       "input {\n",
       "  name: \"utterances\"\n",
       "  type {\n",
       "    multiArrayType {\n",
       "      shape: 1320\n",
       "      dataType: DOUBLE\n",
       "    }\n",
       "  }\n",
       "}\n",
       "output {\n",
       "  name: \"entities\"\n",
       "  type {\n",
       "    multiArrayType {\n",
       "      shape: 25\n",
       "      dataType: DOUBLE\n",
       "    }\n",
       "  }\n",
       "}"
      ]
     },
     "execution_count": 80,
     "metadata": {},
     "output_type": "execute_result"
    }
   ],
   "source": [
    "import coremltools\n",
    "coreml_model = coremltools.converters.keras.convert(model, input_names=\"utterances\", output_names=\"entities\")\n",
    "coreml_model"
   ]
  },
  {
   "cell_type": "code",
   "execution_count": 81,
   "metadata": {},
   "outputs": [],
   "source": [
    "coreml_model.save('Car.mlmodel')"
   ]
  },
  {
   "cell_type": "code",
   "execution_count": null,
   "metadata": {},
   "outputs": [],
   "source": []
  }
 ],
 "metadata": {
  "kernelspec": {
   "display_name": "Python 2",
   "language": "python",
   "name": "python2"
  },
  "language_info": {
   "codemirror_mode": {
    "name": "ipython",
    "version": 2
   },
   "file_extension": ".py",
   "mimetype": "text/x-python",
   "name": "python",
   "nbconvert_exporter": "python",
   "pygments_lexer": "ipython2",
   "version": "2.7.14"
  }
 },
 "nbformat": 4,
 "nbformat_minor": 2
}
