{
 "cells": [
  {
   "cell_type": "code",
   "execution_count": 1,
   "metadata": {},
   "outputs": [
    {
     "name": "stderr",
     "output_type": "stream",
     "text": [
      "/Users/jmangia/anaconda2/envs/SwiftNLC/lib/python2.7/site-packages/h5py/__init__.py:34: FutureWarning: Conversion of the second argument of issubdtype from `float` to `np.floating` is deprecated. In future, it will be treated as `np.float64 == np.dtype(float).type`.\n",
      "  from ._conv import register_converters as _register_converters\n"
     ]
    }
   ],
   "source": [
    "import numpy as np\n",
    "import tensorflow as tf\n"
   ]
  },
  {
   "cell_type": "markdown",
   "metadata": {},
   "source": [
    "# Import one_hot encoded traning dataset prepared wiht NSLinguisticTagger"
   ]
  },
  {
   "cell_type": "code",
   "execution_count": 2,
   "metadata": {},
   "outputs": [],
   "source": [
    "# import intents file\n",
    "import json\n",
    "with open('lemmatizedDataset.json') as json_data:\n",
    "    intents = json.load(json_data)"
   ]
  },
  {
   "cell_type": "code",
   "execution_count": 6,
   "metadata": {},
   "outputs": [
    {
     "name": "stdout",
     "output_type": "stream",
     "text": [
      "(25, 'classes')\n",
      "(957, 'words')\n",
      "(2520, 'x')\n",
      "(2520, 'y')\n"
     ]
    }
   ],
   "source": [
    "classes = len(intents['intents'])\n",
    "currentClass = 0\n",
    "train_x = []\n",
    "train_y = []\n",
    "\n",
    "for intent in intents['intents']:\n",
    "    y = [0] * classes\n",
    "    y[currentClass] = 1\n",
    "\n",
    "    for embedded in intent['embeddedUtterances']:\n",
    "        train_x.append(embedded)\n",
    "        train_y.append(y)\n",
    "\n",
    "    currentClass += 1\n",
    "\n",
    "words = len(train_x[0])\n",
    "\n",
    "print(classes, \"classes\")\n",
    "print(words, \"words\")\n",
    "print(len(train_x), \"x\")\n",
    "print(len(train_y), \"y\")\n",
    "\n"
   ]
  },
  {
   "cell_type": "markdown",
   "metadata": {},
   "source": [
    "# Prepare Keras / TensorFlow model"
   ]
  },
  {
   "cell_type": "code",
   "execution_count": 7,
   "metadata": {},
   "outputs": [
    {
     "name": "stderr",
     "output_type": "stream",
     "text": [
      "Using TensorFlow backend.\n"
     ]
    }
   ],
   "source": [
    "from keras.models import Sequential\n",
    "from keras.layers import Dense\n",
    "from keras.optimizers import Adam\n"
   ]
  },
  {
   "cell_type": "code",
   "execution_count": 10,
   "metadata": {},
   "outputs": [
    {
     "name": "stdout",
     "output_type": "stream",
     "text": [
      "_________________________________________________________________\n",
      "Layer (type)                 Output Shape              Param #   \n",
      "=================================================================\n",
      "dense_4 (Dense)              (None, 8)                 7664      \n",
      "_________________________________________________________________\n",
      "dense_5 (Dense)              (None, 8)                 72        \n",
      "_________________________________________________________________\n",
      "dense_6 (Dense)              (None, 25)                225       \n",
      "=================================================================\n",
      "Total params: 7,961\n",
      "Trainable params: 7,961\n",
      "Non-trainable params: 0\n",
      "_________________________________________________________________\n"
     ]
    }
   ],
   "source": [
    "model = Sequential()\n",
    "model.add(Dense(8, input_dim=words, activation='relu'))\n",
    "model.add(Dense(8, activation='relu'))\n",
    "model.add(Dense(classes, activation='softmax'))\n",
    "model.summary()\n"
   ]
  },
  {
   "cell_type": "code",
   "execution_count": 11,
   "metadata": {},
   "outputs": [],
   "source": [
    "# Compile model\n",
    "model.compile(loss='categorical_crossentropy', optimizer='adam', metrics=['accuracy'])\n"
   ]
  },
  {
   "cell_type": "markdown",
   "metadata": {},
   "source": [
    "# Train Model"
   ]
  },
  {
   "cell_type": "code",
   "execution_count": 12,
   "metadata": {},
   "outputs": [
    {
     "name": "stdout",
     "output_type": "stream",
     "text": [
      "Epoch 1/100\n",
      "2520/2520 [==============================] - 0s 109us/step - loss: 3.0920 - acc: 0.2536\n",
      "Epoch 2/100\n",
      "2520/2520 [==============================] - 0s 44us/step - loss: 2.4936 - acc: 0.2750\n",
      "Epoch 3/100\n",
      "2520/2520 [==============================] - 0s 43us/step - loss: 2.0105 - acc: 0.4516\n",
      "Epoch 4/100\n",
      "2520/2520 [==============================] - 0s 44us/step - loss: 1.7841 - acc: 0.5361\n",
      "Epoch 5/100\n",
      "2520/2520 [==============================] - 0s 46us/step - loss: 1.6081 - acc: 0.5579\n",
      "Epoch 6/100\n",
      "2520/2520 [==============================] - 0s 46us/step - loss: 1.4594 - acc: 0.5679\n",
      "Epoch 7/100\n",
      "2520/2520 [==============================] - 0s 44us/step - loss: 1.3334 - acc: 0.6107\n",
      "Epoch 8/100\n",
      "2520/2520 [==============================] - 0s 46us/step - loss: 1.2302 - acc: 0.6631\n",
      "Epoch 9/100\n",
      "2520/2520 [==============================] - 0s 45us/step - loss: 1.1442 - acc: 0.7000\n",
      "Epoch 10/100\n",
      "2520/2520 [==============================] - 0s 43us/step - loss: 1.0729 - acc: 0.7329\n",
      "Epoch 11/100\n",
      "2520/2520 [==============================] - 0s 45us/step - loss: 1.0116 - acc: 0.7520\n",
      "Epoch 12/100\n",
      "2520/2520 [==============================] - 0s 46us/step - loss: 0.9608 - acc: 0.7683\n",
      "Epoch 13/100\n",
      "2520/2520 [==============================] - 0s 43us/step - loss: 0.9151 - acc: 0.7790\n",
      "Epoch 14/100\n",
      "2520/2520 [==============================] - 0s 44us/step - loss: 0.8744 - acc: 0.7829\n",
      "Epoch 15/100\n",
      "2520/2520 [==============================] - 0s 44us/step - loss: 0.8393 - acc: 0.7897\n",
      "Epoch 16/100\n",
      "2520/2520 [==============================] - 0s 42us/step - loss: 0.8072 - acc: 0.7940\n",
      "Epoch 17/100\n",
      "2520/2520 [==============================] - 0s 48us/step - loss: 0.7774 - acc: 0.7984\n",
      "Epoch 18/100\n",
      "2520/2520 [==============================] - 0s 44us/step - loss: 0.7507 - acc: 0.8024\n",
      "Epoch 19/100\n",
      "2520/2520 [==============================] - 0s 45us/step - loss: 0.7255 - acc: 0.8048\n",
      "Epoch 20/100\n",
      "2520/2520 [==============================] - 0s 44us/step - loss: 0.7016 - acc: 0.8091\n",
      "Epoch 21/100\n",
      "2520/2520 [==============================] - 0s 48us/step - loss: 0.6801 - acc: 0.8135\n",
      "Epoch 22/100\n",
      "2520/2520 [==============================] - 0s 45us/step - loss: 0.6596 - acc: 0.8155\n",
      "Epoch 23/100\n",
      "2520/2520 [==============================] - 0s 43us/step - loss: 0.6408 - acc: 0.8206\n",
      "Epoch 24/100\n",
      "2520/2520 [==============================] - 0s 45us/step - loss: 0.6225 - acc: 0.8302\n",
      "Epoch 25/100\n",
      "2520/2520 [==============================] - 0s 45us/step - loss: 0.6048 - acc: 0.8310\n",
      "Epoch 26/100\n",
      "2520/2520 [==============================] - 0s 47us/step - loss: 0.5884 - acc: 0.8377\n",
      "Epoch 27/100\n",
      "2520/2520 [==============================] - 0s 49us/step - loss: 0.5728 - acc: 0.8381\n",
      "Epoch 28/100\n",
      "2520/2520 [==============================] - 0s 54us/step - loss: 0.5571 - acc: 0.8437\n",
      "Epoch 29/100\n",
      "2520/2520 [==============================] - 0s 49us/step - loss: 0.5423 - acc: 0.8500\n",
      "Epoch 30/100\n",
      "2520/2520 [==============================] - 0s 48us/step - loss: 0.5297 - acc: 0.8536\n",
      "Epoch 31/100\n",
      "2520/2520 [==============================] - 0s 49us/step - loss: 0.5165 - acc: 0.8591\n",
      "Epoch 32/100\n",
      "2520/2520 [==============================] - 0s 51us/step - loss: 0.5032 - acc: 0.8623\n",
      "Epoch 33/100\n",
      "2520/2520 [==============================] - 0s 49us/step - loss: 0.4921 - acc: 0.8639\n",
      "Epoch 34/100\n",
      "2520/2520 [==============================] - 0s 47us/step - loss: 0.4801 - acc: 0.8679\n",
      "Epoch 35/100\n",
      "2520/2520 [==============================] - 0s 47us/step - loss: 0.4682 - acc: 0.8698\n",
      "Epoch 36/100\n",
      "2520/2520 [==============================] - 0s 49us/step - loss: 0.4579 - acc: 0.8738\n",
      "Epoch 37/100\n",
      "2520/2520 [==============================] - 0s 48us/step - loss: 0.4478 - acc: 0.8802\n",
      "Epoch 38/100\n",
      "2520/2520 [==============================] - 0s 45us/step - loss: 0.4367 - acc: 0.8837\n",
      "Epoch 39/100\n",
      "2520/2520 [==============================] - 0s 52us/step - loss: 0.4267 - acc: 0.8861\n",
      "Epoch 40/100\n",
      "2520/2520 [==============================] - 0s 50us/step - loss: 0.4176 - acc: 0.8857\n",
      "Epoch 41/100\n",
      "2520/2520 [==============================] - 0s 48us/step - loss: 0.4094 - acc: 0.8889\n",
      "Epoch 42/100\n",
      "2520/2520 [==============================] - 0s 46us/step - loss: 0.4000 - acc: 0.8937\n",
      "Epoch 43/100\n",
      "2520/2520 [==============================] - 0s 47us/step - loss: 0.3918 - acc: 0.8956\n",
      "Epoch 44/100\n",
      "2520/2520 [==============================] - 0s 57us/step - loss: 0.3839 - acc: 0.8988\n",
      "Epoch 45/100\n",
      "2520/2520 [==============================] - 0s 49us/step - loss: 0.3750 - acc: 0.9020: 0s - loss: 0.3711 - acc: 0.90\n",
      "Epoch 46/100\n",
      "2520/2520 [==============================] - 0s 43us/step - loss: 0.3679 - acc: 0.9036\n",
      "Epoch 47/100\n",
      "2520/2520 [==============================] - 0s 43us/step - loss: 0.3614 - acc: 0.9044\n",
      "Epoch 48/100\n",
      "2520/2520 [==============================] - 0s 47us/step - loss: 0.3536 - acc: 0.9060\n",
      "Epoch 49/100\n",
      "2520/2520 [==============================] - 0s 45us/step - loss: 0.3462 - acc: 0.9071\n",
      "Epoch 50/100\n",
      "2520/2520 [==============================] - 0s 43us/step - loss: 0.3404 - acc: 0.9103\n",
      "Epoch 51/100\n",
      "2520/2520 [==============================] - 0s 47us/step - loss: 0.3339 - acc: 0.9087\n",
      "Epoch 52/100\n",
      "2520/2520 [==============================] - 0s 47us/step - loss: 0.3278 - acc: 0.9119\n",
      "Epoch 53/100\n",
      "2520/2520 [==============================] - 0s 48us/step - loss: 0.3225 - acc: 0.9143\n",
      "Epoch 54/100\n",
      "2520/2520 [==============================] - 0s 45us/step - loss: 0.3171 - acc: 0.9131\n",
      "Epoch 55/100\n",
      "2520/2520 [==============================] - 0s 44us/step - loss: 0.3112 - acc: 0.9131\n",
      "Epoch 56/100\n",
      "2520/2520 [==============================] - 0s 44us/step - loss: 0.3068 - acc: 0.9179\n",
      "Epoch 57/100\n",
      "2520/2520 [==============================] - 0s 45us/step - loss: 0.3019 - acc: 0.9171\n",
      "Epoch 58/100\n",
      "2520/2520 [==============================] - 0s 47us/step - loss: 0.2964 - acc: 0.9206\n",
      "Epoch 59/100\n",
      "2520/2520 [==============================] - 0s 45us/step - loss: 0.2913 - acc: 0.9230\n",
      "Epoch 60/100\n",
      "2520/2520 [==============================] - 0s 44us/step - loss: 0.2872 - acc: 0.9218\n",
      "Epoch 61/100\n",
      "2520/2520 [==============================] - 0s 48us/step - loss: 0.2835 - acc: 0.9242\n",
      "Epoch 62/100\n",
      "2520/2520 [==============================] - 0s 52us/step - loss: 0.2784 - acc: 0.9270\n",
      "Epoch 63/100\n",
      "2520/2520 [==============================] - 0s 50us/step - loss: 0.2742 - acc: 0.9278\n",
      "Epoch 64/100\n",
      "2520/2520 [==============================] - 0s 51us/step - loss: 0.2709 - acc: 0.9294\n",
      "Epoch 65/100\n",
      "2520/2520 [==============================] - 0s 47us/step - loss: 0.2669 - acc: 0.9286\n",
      "Epoch 66/100\n",
      "2520/2520 [==============================] - 0s 50us/step - loss: 0.2632 - acc: 0.9310\n",
      "Epoch 67/100\n",
      "2520/2520 [==============================] - 0s 57us/step - loss: 0.2601 - acc: 0.9341\n",
      "Epoch 68/100\n",
      "2520/2520 [==============================] - 0s 50us/step - loss: 0.2574 - acc: 0.9321: 0s - loss: 0.2607 - acc: 0.93\n",
      "Epoch 69/100\n",
      "2520/2520 [==============================] - 0s 49us/step - loss: 0.2536 - acc: 0.9333\n",
      "Epoch 70/100\n",
      "2520/2520 [==============================] - 0s 43us/step - loss: 0.2506 - acc: 0.9329\n",
      "Epoch 71/100\n",
      "2520/2520 [==============================] - 0s 43us/step - loss: 0.2480 - acc: 0.9349\n",
      "Epoch 72/100\n",
      "2520/2520 [==============================] - 0s 47us/step - loss: 0.2453 - acc: 0.9353\n",
      "Epoch 73/100\n",
      "2520/2520 [==============================] - 0s 47us/step - loss: 0.2418 - acc: 0.9361\n",
      "Epoch 74/100\n",
      "2520/2520 [==============================] - 0s 45us/step - loss: 0.2400 - acc: 0.9349\n",
      "Epoch 75/100\n",
      "2520/2520 [==============================] - 0s 47us/step - loss: 0.2366 - acc: 0.9361\n",
      "Epoch 76/100\n",
      "2520/2520 [==============================] - 0s 46us/step - loss: 0.2340 - acc: 0.9357\n",
      "Epoch 77/100\n",
      "2520/2520 [==============================] - 0s 55us/step - loss: 0.2325 - acc: 0.9369\n",
      "Epoch 78/100\n",
      "2520/2520 [==============================] - 0s 58us/step - loss: 0.2292 - acc: 0.9373\n",
      "Epoch 79/100\n",
      "2520/2520 [==============================] - 0s 47us/step - loss: 0.2271 - acc: 0.9393\n",
      "Epoch 80/100\n",
      "2520/2520 [==============================] - 0s 43us/step - loss: 0.2247 - acc: 0.9389\n",
      "Epoch 81/100\n",
      "2520/2520 [==============================] - 0s 45us/step - loss: 0.2230 - acc: 0.9389\n",
      "Epoch 82/100\n"
     ]
    },
    {
     "name": "stdout",
     "output_type": "stream",
     "text": [
      "2520/2520 [==============================] - 0s 54us/step - loss: 0.2206 - acc: 0.9389\n",
      "Epoch 83/100\n",
      "2520/2520 [==============================] - 0s 56us/step - loss: 0.2194 - acc: 0.9413\n",
      "Epoch 84/100\n",
      "2520/2520 [==============================] - 0s 50us/step - loss: 0.2169 - acc: 0.9405\n",
      "Epoch 85/100\n",
      "2520/2520 [==============================] - 0s 50us/step - loss: 0.2135 - acc: 0.9413\n",
      "Epoch 86/100\n",
      "2520/2520 [==============================] - 0s 45us/step - loss: 0.2127 - acc: 0.9421\n",
      "Epoch 87/100\n",
      "2520/2520 [==============================] - 0s 50us/step - loss: 0.2111 - acc: 0.9405\n",
      "Epoch 88/100\n",
      "2520/2520 [==============================] - 0s 45us/step - loss: 0.2096 - acc: 0.9409\n",
      "Epoch 89/100\n",
      "2520/2520 [==============================] - 0s 43us/step - loss: 0.2066 - acc: 0.9429\n",
      "Epoch 90/100\n",
      "2520/2520 [==============================] - 0s 45us/step - loss: 0.2052 - acc: 0.9433\n",
      "Epoch 91/100\n",
      "2520/2520 [==============================] - 0s 48us/step - loss: 0.2033 - acc: 0.9425\n",
      "Epoch 92/100\n",
      "2520/2520 [==============================] - 0s 48us/step - loss: 0.2017 - acc: 0.9440\n",
      "Epoch 93/100\n",
      "2520/2520 [==============================] - 0s 46us/step - loss: 0.1995 - acc: 0.9429\n",
      "Epoch 94/100\n",
      "2520/2520 [==============================] - 0s 45us/step - loss: 0.1989 - acc: 0.9425\n",
      "Epoch 95/100\n",
      "2520/2520 [==============================] - 0s 50us/step - loss: 0.1974 - acc: 0.9421\n",
      "Epoch 96/100\n",
      "2520/2520 [==============================] - 0s 45us/step - loss: 0.1956 - acc: 0.9444\n",
      "Epoch 97/100\n",
      "2520/2520 [==============================] - 0s 44us/step - loss: 0.1945 - acc: 0.9437\n",
      "Epoch 98/100\n",
      "2520/2520 [==============================] - 0s 45us/step - loss: 0.1924 - acc: 0.9448\n",
      "Epoch 99/100\n",
      "2520/2520 [==============================] - 0s 48us/step - loss: 0.1916 - acc: 0.9460\n",
      "Epoch 100/100\n",
      "2520/2520 [==============================] - 0s 47us/step - loss: 0.1899 - acc: 0.9456\n"
     ]
    },
    {
     "data": {
      "text/plain": [
       "<keras.callbacks.History at 0x11c80fb10>"
      ]
     },
     "execution_count": 12,
     "metadata": {},
     "output_type": "execute_result"
    }
   ],
   "source": [
    "model.fit(np.array(train_x), np.array(train_y), epochs=100)"
   ]
  },
  {
   "cell_type": "markdown",
   "metadata": {},
   "source": [
    "# Export Model using CoreML Tools"
   ]
  },
  {
   "cell_type": "code",
   "execution_count": 13,
   "metadata": {},
   "outputs": [],
   "source": [
    "model.save('Car.h5')"
   ]
  },
  {
   "cell_type": "code",
   "execution_count": 14,
   "metadata": {},
   "outputs": [
    {
     "name": "stderr",
     "output_type": "stream",
     "text": [
      "WARNING:root:Keras version 2.1.5 detected. Last version known to be fully compatible of Keras is 2.1.3 .\n",
      "WARNING:root:TensorFlow version 1.6.0 detected. Last version known to be fully compatible is 1.5.0 .\n"
     ]
    },
    {
     "name": "stdout",
     "output_type": "stream",
     "text": [
      "0 : dense_4_input, <keras.engine.topology.InputLayer object at 0x11c86d650>\n",
      "1 : dense_4, <keras.layers.core.Dense object at 0x11c824090>\n",
      "2 : dense_4__activation__, <keras.layers.core.Activation object at 0x11e4c43d0>\n",
      "3 : dense_5, <keras.layers.core.Dense object at 0x11c824110>\n",
      "4 : dense_5__activation__, <keras.layers.core.Activation object at 0x11e4c4450>\n",
      "5 : dense_6, <keras.layers.core.Dense object at 0x11c884c90>\n",
      "6 : dense_6__activation__, <keras.layers.core.Activation object at 0x11e4c44d0>\n"
     ]
    },
    {
     "data": {
      "text/plain": [
       "input {\n",
       "  name: \"utterances\"\n",
       "  type {\n",
       "    multiArrayType {\n",
       "      shape: 957\n",
       "      dataType: DOUBLE\n",
       "    }\n",
       "  }\n",
       "}\n",
       "output {\n",
       "  name: \"entities\"\n",
       "  type {\n",
       "    multiArrayType {\n",
       "      shape: 25\n",
       "      dataType: DOUBLE\n",
       "    }\n",
       "  }\n",
       "}"
      ]
     },
     "execution_count": 14,
     "metadata": {},
     "output_type": "execute_result"
    }
   ],
   "source": [
    "import coremltools\n",
    "coreml_model = coremltools.converters.keras.convert(model, input_names=\"embeddings\", output_names=\"entities\")\n",
    "coreml_model"
   ]
  },
  {
   "cell_type": "code",
   "execution_count": 15,
   "metadata": {},
   "outputs": [],
   "source": [
    "coreml_model.save('Car.mlmodel')"
   ]
  },
  {
   "cell_type": "code",
   "execution_count": null,
   "metadata": {},
   "outputs": [],
   "source": []
  }
 ],
 "metadata": {
  "kernelspec": {
   "display_name": "Python 2",
   "language": "python",
   "name": "python2"
  },
  "language_info": {
   "codemirror_mode": {
    "name": "ipython",
    "version": 2
   },
   "file_extension": ".py",
   "mimetype": "text/x-python",
   "name": "python",
   "nbconvert_exporter": "python",
   "pygments_lexer": "ipython2",
   "version": "2.7.14"
  }
 },
 "nbformat": 4,
 "nbformat_minor": 2
}
