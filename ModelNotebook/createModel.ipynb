{
 "cells": [
  {
   "cell_type": "code",
   "execution_count": 5,
   "metadata": {},
   "outputs": [
    {
     "name": "stderr",
     "output_type": "stream",
     "text": [
      "/Users/jmangia/anaconda2/envs/SwiftNLC/lib/python2.7/site-packages/h5py/__init__.py:34: FutureWarning: Conversion of the second argument of issubdtype from `float` to `np.floating` is deprecated. In future, it will be treated as `np.float64 == np.dtype(float).type`.\n",
      "  from ._conv import register_converters as _register_converters\n"
     ]
    }
   ],
   "source": [
    "# things we need for NLP\n",
    "import nltk\n",
    "from nltk.stem.lancaster import LancasterStemmer\n",
    "stemmer = LancasterStemmer()\n",
    "\n",
    "# things we need for Tensorflow\n",
    "import numpy as np\n",
    "import tensorflow as tf\n",
    "import random"
   ]
  },
  {
   "cell_type": "code",
   "execution_count": 6,
   "metadata": {},
   "outputs": [],
   "source": [
    "# import our chat-bot intents file\n",
    "import json\n",
    "with open('dataset.json') as json_data:\n",
    "    intents = json.load(json_data)"
   ]
  },
  {
   "cell_type": "code",
   "execution_count": 8,
   "metadata": {},
   "outputs": [
    {
     "name": "stdout",
     "output_type": "stream",
     "text": [
      "(25, 'classes', [u'about_VA', u'capabilities', u'compound_questions', u'decision_replies', u'goodbyes', u'greetings', u'improving_system', u'information_request', u'interface_interactions', u'interface_issues', u'locate_amenity', u'navigation', u'negative_reaction', u'not_specified', u'out_of_scope', u'phone', u'positive_reaction', u'selections', u'system_reliance', u'traffic_update', u'turn_down', u'turn_off', u'turn_on', u'turn_up', u'weather'])\n",
      "(1320, 'unique stemmed words')\n",
      "(2520, 'documents')\n",
      "([u'hey', u',', u'now', u'it', u\"'s\", u'raining', u',', u'you', u'said', u'you', u'did', u\"n't\", u'know', u'anything', u'about', u'that', u'.', u'Are', u'you', u'a', u'liar', u'?'], u'system_reliance')\n",
      "([u'do', u'you', u'tell', u'the', u'truth'], u'system_reliance')\n"
     ]
    }
   ],
   "source": [
    "words = []\n",
    "classes = []\n",
    "documents = []\n",
    "ignore_words = ['?']\n",
    "# loop through each sentence in our intents utterances\n",
    "for intent in intents['intents']:\n",
    "    for pattern in intent['utterances']:\n",
    "        # tokenize each word in the sentence\n",
    "        w = nltk.word_tokenize(pattern)\n",
    "        # add to our words list\n",
    "        words.extend(w)\n",
    "        # add to documents in our corpus\n",
    "        documents.append((w, intent['intent']))\n",
    "        # add to our classes list\n",
    "        if intent['intent'] not in classes:\n",
    "            classes.append(intent['intent'])\n",
    "\n",
    "# stem and lower each word and remove duplicates\n",
    "words = [stemmer.stem(w.lower()) for w in words if w not in ignore_words]\n",
    "words = sorted(list(set(words)))\n",
    "\n",
    "# remove duplicates\n",
    "classes = sorted(list(set(classes)))\n",
    "\n",
    "print (len(classes), \"classes\", classes)\n",
    "print (len(words), \"unique stemmed words\")\n",
    "print (len(documents), \"documents\")\n",
    "print (documents[0])\n",
    "print (documents[1])\n",
    "\n",
    "\n"
   ]
  },
  {
   "cell_type": "code",
   "execution_count": 15,
   "metadata": {},
   "outputs": [
    {
     "name": "stdout",
     "output_type": "stream",
     "text": [
      "(1320, 'bags')\n",
      "(2520, 'trainings')\n"
     ]
    }
   ],
   "source": [
    "# create our training data\n",
    "training = []\n",
    "# create an empty array for our output\n",
    "output_empty = [0] * len(classes)\n",
    "\n",
    "# training set, bag of words for each sentence\n",
    "for doc in documents:\n",
    "    # initialize our bag of words\n",
    "    bag = []\n",
    "    # list of tokenized words for the pattern\n",
    "    pattern_words = doc[0]\n",
    "    # stem each word\n",
    "    pattern_words = [stemmer.stem(word.lower()) for word in pattern_words]\n",
    "    # create our bag of words array\n",
    "    for w in words:\n",
    "        bag.append(1) if w in pattern_words else bag.append(0)\n",
    "\n",
    "    # output is a '0' for each intent and '1' for current intent\n",
    "    output_row = list(output_empty)\n",
    "    output_row[classes.index(doc[1])] = 1\n",
    "\n",
    "    training.append([bag, output_row])\n",
    "\n",
    "print (len(bag), \"bags\")    \n",
    "print (len(training), \"trainings\")    \n",
    "\n",
    "    \n",
    "# shuffle our features and turn into np.array\n",
    "random.shuffle(training)\n",
    "training = np.array(training)\n",
    "\n",
    "# create train and test lists\n",
    "train_x = list(training[:,0])\n",
    "train_y = list(training[:,1])"
   ]
  },
  {
   "cell_type": "code",
   "execution_count": 20,
   "metadata": {},
   "outputs": [
    {
     "name": "stderr",
     "output_type": "stream",
     "text": [
      "Using TensorFlow backend.\n"
     ]
    }
   ],
   "source": [
    "from keras.models import Sequential\n",
    "from keras.layers import Dense\n",
    "from keras.optimizers import Adam\n"
   ]
  },
  {
   "cell_type": "code",
   "execution_count": 25,
   "metadata": {},
   "outputs": [
    {
     "name": "stdout",
     "output_type": "stream",
     "text": [
      "_________________________________________________________________\n",
      "Layer (type)                 Output Shape              Param #   \n",
      "=================================================================\n",
      "dense_1 (Dense)              (None, 8)                 10568     \n",
      "_________________________________________________________________\n",
      "dense_2 (Dense)              (None, 8)                 72        \n",
      "_________________________________________________________________\n",
      "dense_3 (Dense)              (None, 25)                225       \n",
      "=================================================================\n",
      "Total params: 10,865\n",
      "Trainable params: 10,865\n",
      "Non-trainable params: 0\n",
      "_________________________________________________________________\n"
     ]
    }
   ],
   "source": [
    "model = Sequential()\n",
    "model.add(Dense(8, input_dim=len(train_x[0]), activation='relu'))\n",
    "model.add(Dense(8, activation='relu'))\n",
    "model.add(Dense(len(train_y[0]), activation='softmax'))\n",
    "model.summary()\n"
   ]
  },
  {
   "cell_type": "code",
   "execution_count": 26,
   "metadata": {},
   "outputs": [],
   "source": [
    "# Compile model\n",
    "model.compile(loss='categorical_crossentropy', optimizer='adam', metrics=['accuracy'])\n"
   ]
  },
  {
   "cell_type": "code",
   "execution_count": 29,
   "metadata": {},
   "outputs": [
    {
     "name": "stdout",
     "output_type": "stream",
     "text": [
      "Epoch 1/40\n",
      "2520/2520 [==============================] - 0s 147us/step - loss: 3.0480 - acc: 0.2762\n",
      "Epoch 2/40\n",
      "2520/2520 [==============================] - 0s 46us/step - loss: 2.4081 - acc: 0.2750\n",
      "Epoch 3/40\n",
      "2520/2520 [==============================] - 0s 45us/step - loss: 1.9592 - acc: 0.3667\n",
      "Epoch 4/40\n",
      "2520/2520 [==============================] - 0s 50us/step - loss: 1.7046 - acc: 0.5595\n",
      "Epoch 5/40\n",
      "2520/2520 [==============================] - 0s 47us/step - loss: 1.4786 - acc: 0.6687\n",
      "Epoch 6/40\n",
      "2520/2520 [==============================] - 0s 50us/step - loss: 1.2825 - acc: 0.7016\n",
      "Epoch 7/40\n",
      "2520/2520 [==============================] - 0s 48us/step - loss: 1.1451 - acc: 0.7179\n",
      "Epoch 8/40\n",
      "2520/2520 [==============================] - 0s 47us/step - loss: 1.0477 - acc: 0.7405\n",
      "Epoch 9/40\n",
      "2520/2520 [==============================] - 0s 47us/step - loss: 0.9721 - acc: 0.7520\n",
      "Epoch 10/40\n",
      "2520/2520 [==============================] - 0s 50us/step - loss: 0.9081 - acc: 0.7679\n",
      "Epoch 11/40\n",
      "2520/2520 [==============================] - 0s 51us/step - loss: 0.8532 - acc: 0.7806\n",
      "Epoch 12/40\n",
      "2520/2520 [==============================] - 0s 49us/step - loss: 0.8031 - acc: 0.7944\n",
      "Epoch 13/40\n",
      "2520/2520 [==============================] - 0s 49us/step - loss: 0.7542 - acc: 0.8032\n",
      "Epoch 14/40\n",
      "2520/2520 [==============================] - 0s 48us/step - loss: 0.7086 - acc: 0.8103\n",
      "Epoch 15/40\n",
      "2520/2520 [==============================] - 0s 46us/step - loss: 0.6680 - acc: 0.8190\n",
      "Epoch 16/40\n",
      "2520/2520 [==============================] - 0s 48us/step - loss: 0.6319 - acc: 0.8258\n",
      "Epoch 17/40\n",
      "2520/2520 [==============================] - 0s 46us/step - loss: 0.5981 - acc: 0.8365\n",
      "Epoch 18/40\n",
      "2520/2520 [==============================] - 0s 48us/step - loss: 0.5669 - acc: 0.8504\n",
      "Epoch 19/40\n",
      "2520/2520 [==============================] - 0s 48us/step - loss: 0.5381 - acc: 0.8595\n",
      "Epoch 20/40\n",
      "2520/2520 [==============================] - 0s 48us/step - loss: 0.5112 - acc: 0.8683\n",
      "Epoch 21/40\n",
      "2520/2520 [==============================] - 0s 46us/step - loss: 0.4855 - acc: 0.8730\n",
      "Epoch 22/40\n",
      "2520/2520 [==============================] - 0s 44us/step - loss: 0.4611 - acc: 0.8774\n",
      "Epoch 23/40\n",
      "2520/2520 [==============================] - 0s 46us/step - loss: 0.4374 - acc: 0.8853\n",
      "Epoch 24/40\n",
      "2520/2520 [==============================] - 0s 47us/step - loss: 0.4166 - acc: 0.8897\n",
      "Epoch 25/40\n",
      "2520/2520 [==============================] - 0s 43us/step - loss: 0.3948 - acc: 0.8996\n",
      "Epoch 26/40\n",
      "2520/2520 [==============================] - 0s 47us/step - loss: 0.3759 - acc: 0.9052\n",
      "Epoch 27/40\n",
      "2520/2520 [==============================] - 0s 45us/step - loss: 0.3576 - acc: 0.9091\n",
      "Epoch 28/40\n",
      "2520/2520 [==============================] - 0s 49us/step - loss: 0.3404 - acc: 0.9179\n",
      "Epoch 29/40\n",
      "2520/2520 [==============================] - 0s 46us/step - loss: 0.3247 - acc: 0.9206\n",
      "Epoch 30/40\n",
      "2520/2520 [==============================] - 0s 47us/step - loss: 0.3095 - acc: 0.9262\n",
      "Epoch 31/40\n",
      "2520/2520 [==============================] - 0s 44us/step - loss: 0.2946 - acc: 0.9302\n",
      "Epoch 32/40\n",
      "2520/2520 [==============================] - 0s 46us/step - loss: 0.2816 - acc: 0.9357\n",
      "Epoch 33/40\n",
      "2520/2520 [==============================] - 0s 48us/step - loss: 0.2687 - acc: 0.9393\n",
      "Epoch 34/40\n",
      "2520/2520 [==============================] - 0s 46us/step - loss: 0.2570 - acc: 0.9433\n",
      "Epoch 35/40\n",
      "2520/2520 [==============================] - 0s 45us/step - loss: 0.2459 - acc: 0.9456\n",
      "Epoch 36/40\n",
      "2520/2520 [==============================] - 0s 46us/step - loss: 0.2356 - acc: 0.9492\n",
      "Epoch 37/40\n",
      "2520/2520 [==============================] - 0s 47us/step - loss: 0.2263 - acc: 0.9496\n",
      "Epoch 38/40\n",
      "2520/2520 [==============================] - 0s 47us/step - loss: 0.2162 - acc: 0.9508\n",
      "Epoch 39/40\n",
      "2520/2520 [==============================] - 0s 47us/step - loss: 0.2089 - acc: 0.9524\n",
      "Epoch 40/40\n",
      "2520/2520 [==============================] - 0s 44us/step - loss: 0.2004 - acc: 0.9532\n"
     ]
    },
    {
     "data": {
      "text/plain": [
       "<keras.callbacks.History at 0x125800a50>"
      ]
     },
     "execution_count": 29,
     "metadata": {},
     "output_type": "execute_result"
    }
   ],
   "source": [
    "model.fit(np.array(train_x), np.array(train_y), epochs=40)"
   ]
  },
  {
   "cell_type": "code",
   "execution_count": 30,
   "metadata": {},
   "outputs": [],
   "source": [
    "def clean_up_sentence(sentence):\n",
    "    # tokenize the pattern\n",
    "    sentence_words = nltk.word_tokenize(sentence)\n",
    "    # stem each word\n",
    "    sentence_words = [stemmer.stem(word.lower()) for word in sentence_words]\n",
    "    return sentence_words\n",
    "\n",
    "# return bag of words array: 0 or 1 for each word in the bag that exists in the sentence\n",
    "def bow(sentence, words, show_details=False):\n",
    "    # tokenize the pattern\n",
    "    sentence_words = clean_up_sentence(sentence)\n",
    "    # bag of words\n",
    "    bag = [0]*len(words)  \n",
    "    for s in sentence_words:\n",
    "        for i,w in enumerate(words):\n",
    "            if w == s: \n",
    "                bag[i] = 1\n",
    "                if show_details:\n",
    "                    print (\"found in bag: %s\" % w)\n",
    "\n",
    "    return(np.array(bag))"
   ]
  },
  {
   "cell_type": "code",
   "execution_count": 39,
   "metadata": {},
   "outputs": [
    {
     "name": "stdout",
     "output_type": "stream",
     "text": [
      "[0 0 0 ... 0 0 0]\n",
      "[u'about_VA', u'capabilities', u'compound_questions', u'decision_replies', u'goodbyes', u'greetings', u'improving_system', u'information_request', u'interface_interactions', u'interface_issues', u'locate_amenity', u'navigation', u'negative_reaction', u'not_specified', u'out_of_scope', u'phone', u'positive_reaction', u'selections', u'system_reliance', u'traffic_update', u'turn_down', u'turn_off', u'turn_on', u'turn_up', u'weather']\n"
     ]
    }
   ],
   "source": [
    "p = bow(\"Turn on the radio\", words)\n",
    "print (p)\n",
    "print (classes)"
   ]
  },
  {
   "cell_type": "code",
   "execution_count": 40,
   "metadata": {},
   "outputs": [],
   "source": [
    "y_pred = model.predict(np.array([p]))"
   ]
  },
  {
   "cell_type": "code",
   "execution_count": 41,
   "metadata": {},
   "outputs": [
    {
     "name": "stdout",
     "output_type": "stream",
     "text": [
      "[[1.12378768e-06 1.01364196e-06 2.43094582e-02 2.97890688e-06\n",
      "  3.92497168e-04 1.44808485e-08 1.42170524e-08 1.87340256e-13\n",
      "  1.89397076e-06 2.16867482e-10 2.74130400e-07 3.26781446e-07\n",
      "  9.34756352e-12 8.14700418e-10 3.76845070e-04 9.97871757e-05\n",
      "  5.39235434e-10 1.13409247e-11 6.16560243e-08 3.85555743e-14\n",
      "  1.02777397e-02 1.72899876e-04 9.53947425e-01 1.04156444e-02\n",
      "  2.88402724e-08]]\n"
     ]
    }
   ],
   "source": [
    "print(y_pred)"
   ]
  },
  {
   "cell_type": "code",
   "execution_count": 47,
   "metadata": {},
   "outputs": [
    {
     "name": "stdout",
     "output_type": "stream",
     "text": [
      "0.9539474\n"
     ]
    }
   ],
   "source": [
    "print(y_pred[0][22])"
   ]
  },
  {
   "cell_type": "code",
   "execution_count": 48,
   "metadata": {},
   "outputs": [
    {
     "name": "stdout",
     "output_type": "stream",
     "text": [
      "turn_on\n"
     ]
    }
   ],
   "source": [
    "print(classes[22])"
   ]
  },
  {
   "cell_type": "code",
   "execution_count": null,
   "metadata": {},
   "outputs": [],
   "source": []
  }
 ],
 "metadata": {
  "kernelspec": {
   "display_name": "Python 2",
   "language": "python",
   "name": "python2"
  },
  "language_info": {
   "codemirror_mode": {
    "name": "ipython",
    "version": 2
   },
   "file_extension": ".py",
   "mimetype": "text/x-python",
   "name": "python",
   "nbconvert_exporter": "python",
   "pygments_lexer": "ipython2",
   "version": "2.7.14"
  }
 },
 "nbformat": 4,
 "nbformat_minor": 2
}
